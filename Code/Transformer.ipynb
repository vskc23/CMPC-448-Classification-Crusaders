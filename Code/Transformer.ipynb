{
 "cells": [
  {
   "cell_type": "code",
   "execution_count": 2,
   "metadata": {},
   "outputs": [],
   "source": [
    "# Import dependencies\n",
    "import os\n",
    "import numpy as np\n",
    "import matplotlib.pyplot as plt\n",
    "\n",
    "import torch\n",
    "from transformers import AutoModelForSequenceClassification, Trainer, TrainingArguments, AutoTokenizer\n",
    "\n",
    "from sklearn.metrics import f1_score, accuracy_score, confusion_matrix, classification_report, ConfusionMatrixDisplay\n",
    "from datasets import load_dataset"
   ]
  },
  {
   "cell_type": "code",
   "execution_count": null,
   "metadata": {},
   "outputs": [],
   "source": [
    "# Install dependencies\n",
    "%pip install evaluate\n",
    "%pip install transformers[torch]\n",
    "%pip install accelarte\n",
    "%pip install datasets"
   ]
  },
  {
   "cell_type": "code",
   "execution_count": 10,
   "metadata": {},
   "outputs": [],
   "source": [
    "device = torch.device('cuda:0' if torch.cuda.is_available() else 'cpu') # To train our model on GPU if available\n",
    "\n",
    "torch.cuda.empty_cache()\n",
    "\n",
    "os.environ[\"PYTORCH_CUDA_ALLOC_CONF\"] = \"max_split_size_mb:512\""
   ]
  },
  {
   "cell_type": "code",
   "execution_count": 4,
   "metadata": {},
   "outputs": [],
   "source": [
    "id2label = {\n",
    "\"POLITICS\": 0,\n",
    "\"WELLNESS\": 1,\n",
    "\"ENTERTAINMENT\": 2,\n",
    "\"PARENTING\": 3,\n",
    "\"STYLE & BEAUTY\" : 4,\n",
    "\"OTHER\": 5,\n",
    "\"TRAVEL\": 6,\n",
    "\"WORLD NEWS\": 7,\n",
    "\"FOOD & DRINK\": 8,\n",
    "\"FINANCE\": 9,\n",
    "\"SPORTS\": 10,\n",
    "\"SCIENCE & TECH\": 11,\n",
    "\"ENVIRONMENT\": 12,\n",
    "\"ARTS & CULTURE\" : 13,\n",
    "\"CRIME\" : 14,\n",
    "\"RELIGION\": 15\n",
    "}\n",
    "\n",
    "label2id = {}\n",
    "for key in id2label.keys():\n",
    "  label2id[id2label[key]] = key"
   ]
  },
  {
   "cell_type": "code",
   "execution_count": 5,
   "metadata": {},
   "outputs": [],
   "source": [
    "def compute_metrics(logits_and_labels):\n",
    "  '''\n",
    "    The Trainer class uses this function to compute the metrics like Accuracy, F1 score, etc. for the test set\n",
    "  '''\n",
    "  logits, labels = logits_and_labels\n",
    "  predictions = np.argmax(logits, axis=-1)\n",
    "  acc = accuracy_score(labels, predictions)\n",
    "  f1 = f1_score(labels, predictions, average = 'micro')\n",
    "\n",
    "  conv_labels = [label2id[x] for x in labels]\n",
    "  conv_predicions = [label2id[x] for x in predictions]\n",
    " \n",
    "  print(\"*************** Confusion Matrix **************************\")\n",
    "  cm = confusion_matrix(conv_labels, conv_predicions)\n",
    "  disp = ConfusionMatrixDisplay(confusion_matrix=cm, display_labels=id2label.keys())\n",
    "  disp.plot(xticks_rotation=90, cmap=\"\")\n",
    "  plt.show()\n",
    "\n",
    "  print(\"*************** Classification Report **************************\")\n",
    "  print(classification_report(conv_labels, conv_predicions))\n",
    "\n",
    "  return {'accuracy': acc, 'f1_score': f1}"
   ]
  },
  {
   "cell_type": "code",
   "execution_count": 6,
   "metadata": {},
   "outputs": [],
   "source": [
    "# Using the pre-trained XLNet Tokenizer\n",
    "tokenizer = AutoTokenizer.from_pretrained(\"xlnet-base-cased\")\n",
    "\n",
    "def tokenize_fn(batch):\n",
    "  return tokenizer(batch['full_review'], truncation = True)"
   ]
  },
  {
   "cell_type": "code",
   "execution_count": 7,
   "metadata": {},
   "outputs": [
    {
     "name": "stderr",
     "output_type": "stream",
     "text": [
      "Some weights of XLNetForSequenceClassification were not initialized from the model checkpoint at xlnet-base-cased and are newly initialized: ['sequence_summary.summary.weight', 'logits_proj.weight', 'sequence_summary.summary.bias', 'logits_proj.bias']\n",
      "You should probably TRAIN this model on a down-stream task to be able to use it for predictions and inference.\n"
     ]
    }
   ],
   "source": [
    "# Loading the pre-trained xlnet-base-cased model for predicting 10 classes\n",
    "classes = 10\n",
    "model = AutoModelForSequenceClassification.from_pretrained(\"xlnet-base-cased\", num_labels=classes)"
   ]
  },
  {
   "cell_type": "code",
   "execution_count": 8,
   "metadata": {},
   "outputs": [
    {
     "data": {
      "application/vnd.jupyter.widget-view+json": {
       "model_id": "68340c8fc00b4218a00966cea21f343b",
       "version_major": 2,
       "version_minor": 0
      },
      "text/plain": [
       "Map:   0%|          | 0/27430 [00:00<?, ? examples/s]"
      ]
     },
     "metadata": {},
     "output_type": "display_data"
    },
    {
     "name": "stderr",
     "output_type": "stream",
     "text": [
      "Asking to truncate to max_length but no maximum length is provided and the model has no predefined maximum length. Default to no truncation.\n"
     ]
    }
   ],
   "source": [
    "# Loading pre-processed data\n",
    "raw_dataset = load_dataset('csv', data_files = \"./top_9.csv\")\n",
    "\n",
    "split = raw_dataset['train'].train_test_split(test_size=0.2, seed=42)\n",
    "\n",
    "# Tokenizing the dataset\n",
    "tokenized_dataset = split.map(tokenize_fn, batched = True)"
   ]
  },
  {
   "cell_type": "code",
   "execution_count": 12,
   "metadata": {},
   "outputs": [],
   "source": [
    "# Defining Training Arguments for model\n",
    "training_args = TrainingArguments(\n",
    "    output_dir=\"XLNet_Top_10\",\n",
    "    learning_rate=2e-5,\n",
    "    per_device_train_batch_size=8,\n",
    "    per_device_eval_batch_size=8,\n",
    "    num_train_epochs=5,\n",
    "    weight_decay=0.01,\n",
    "    evaluation_strategy=\"steps\",\n",
    "    save_strategy=\"steps\",\n",
    "    load_best_model_at_end=True,\n",
    "    use_cpu=True\n",
    ")\n",
    "\n",
    "# Initializing the Trainer\n",
    "trainer = Trainer(\n",
    "    model=model,\n",
    "    args=training_args,\n",
    "    train_dataset=tokenized_dataset[\"train\"],\n",
    "    eval_dataset=tokenized_dataset[\"test\"],\n",
    "    tokenizer=tokenizer,\n",
    "    compute_metrics=compute_metrics,\n",
    ")"
   ]
  },
  {
   "cell_type": "code",
   "execution_count": null,
   "metadata": {},
   "outputs": [],
   "source": [
    "# Training the model\n",
    "trainer.train()\n",
    "# trainer.train(\"./XLNet_Top_10/checkpoint-65000\") #To load the model from a checkpoint and resume training"
   ]
  },
  {
   "cell_type": "code",
   "execution_count": null,
   "metadata": {},
   "outputs": [],
   "source": [
    "# To make evaluation on specific checkpoint\n",
    "trainer._load_from_checkpoint(\"./XLNet_Top_10/checkpoint-65000\")\n",
    "trainer.evaluate(tokenized_dataset[\"test\"])"
   ]
  },
  {
   "cell_type": "code",
   "execution_count": null,
   "metadata": {},
   "outputs": [],
   "source": []
  }
 ],
 "metadata": {
  "kernelspec": {
   "display_name": "Python 3",
   "language": "python",
   "name": "python3"
  },
  "language_info": {
   "codemirror_mode": {
    "name": "ipython",
    "version": 3
   },
   "file_extension": ".py",
   "mimetype": "text/x-python",
   "name": "python",
   "nbconvert_exporter": "python",
   "pygments_lexer": "ipython3",
   "version": "3.8.1"
  }
 },
 "nbformat": 4,
 "nbformat_minor": 2
}
