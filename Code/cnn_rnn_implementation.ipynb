{
  "cells": [
    {
      "cell_type": "code",
      "execution_count": 2,
      "metadata": {
        "colab": {
          "base_uri": "https://localhost:8080/"
        },
        "id": "Do4ciQWsaNd0",
        "outputId": "df74dd5f-191c-4e8e-c2c2-44a2cccaa032"
      },
      "outputs": [
        {
          "output_type": "stream",
          "name": "stdout",
          "text": [
            "Mounted at /content/drive\n"
          ]
        }
      ],
      "source": [
        "from google.colab import drive\n",
        "drive.mount('/content/drive')"
      ]
    },
    {
      "cell_type": "code",
      "execution_count": null,
      "metadata": {
        "colab": {
          "base_uri": "https://localhost:8080/"
        },
        "id": "nEPO1tYXaeek",
        "outputId": "79825c1b-3774-4e8a-f19e-a0ea9107b126"
      },
      "outputs": [
        {
          "name": "stdout",
          "output_type": "stream",
          "text": [
            "/content/drive/MyDrive/ML_Final_Project\n"
          ]
        }
      ],
      "source": [
        "%cd  /content/drive/MyDrive/ML_Final_Project"
      ]
    },
    {
      "cell_type": "code",
      "execution_count": null,
      "metadata": {
        "id": "9F0fvbJRXo5t"
      },
      "outputs": [],
      "source": [
        "\n",
        "import time\n",
        "import pandas as pd\n",
        "import numpy as np\n",
        "import torch\n",
        "from tqdm.auto import tqdm\n",
        "tqdm.pandas(desc='Progress')\n",
        "import torch\n",
        "import torch.nn as nn\n",
        "import torch.nn.functional as F\n",
        "from multiprocessing import  Pool\n",
        "import numpy as np\n",
        "import matplotlib.pyplot as plt\n",
        "\n",
        "DEVICE = torch.device(\"mps\") if torch.backends.mps.is_available() else torch.device(\"cpu\")"
      ]
    },
    {
      "cell_type": "code",
      "execution_count": null,
      "metadata": {
        "id": "akBbQXszXo5v"
      },
      "outputs": [],
      "source": [
        "embed_size = 300 # how big is each word vector\n",
        "max_features = 18000 # how many unique words to use (i.e num rows in embedding vector)\n",
        "maxlen = 250 # max number of words in a question to use\n",
        "batch_size = 256 # how many samples to process at once\n",
        "n_epochs = 10 # how many times to iterate over all samples\n",
        "n_splits = 5 # Number of K-fold Splits\n",
        "SEED = 10\n",
        "debug = 0"
      ]
    },
    {
      "cell_type": "code",
      "execution_count": null,
      "metadata": {
        "colab": {
          "base_uri": "https://localhost:8080/",
          "height": 293
        },
        "id": "5dcAVHu-Xo5v",
        "outputId": "8cdeed7b-6abc-487c-aca3-c1db3e969354"
      },
      "outputs": [
        {
          "data": {
            "text/html": [
              "\n",
              "  <div id=\"df-f3821611-8971-4403-a1ae-87dbc45205d3\" class=\"colab-df-container\">\n",
              "    <div>\n",
              "<style scoped>\n",
              "    .dataframe tbody tr th:only-of-type {\n",
              "        vertical-align: middle;\n",
              "    }\n",
              "\n",
              "    .dataframe tbody tr th {\n",
              "        vertical-align: top;\n",
              "    }\n",
              "\n",
              "    .dataframe thead th {\n",
              "        text-align: right;\n",
              "    }\n",
              "</style>\n",
              "<table border=\"1\" class=\"dataframe\">\n",
              "  <thead>\n",
              "    <tr style=\"text-align: right;\">\n",
              "      <th></th>\n",
              "      <th>headline</th>\n",
              "      <th>category</th>\n",
              "      <th>short_description</th>\n",
              "      <th>combined</th>\n",
              "      <th>full_review</th>\n",
              "    </tr>\n",
              "  </thead>\n",
              "  <tbody>\n",
              "    <tr>\n",
              "      <th>0</th>\n",
              "      <td>The Funniest Tweets From Parents This Week (Se...</td>\n",
              "      <td>PARENTING</td>\n",
              "      <td>\"Accidentally put grown-up toothpaste on my to...</td>\n",
              "      <td>the funniest tweets from parents this week sep...</td>\n",
              "      <td>the funniest tweets from parents this week sep...</td>\n",
              "    </tr>\n",
              "    <tr>\n",
              "      <th>1</th>\n",
              "      <td>Puerto Ricans Desperate For Water After Hurric...</td>\n",
              "      <td>WORLD NEWS</td>\n",
              "      <td>More than half a million people remained witho...</td>\n",
              "      <td>puerto ricans desperate for water after hurric...</td>\n",
              "      <td>puerto ricans desperate for water after hurric...</td>\n",
              "    </tr>\n",
              "    <tr>\n",
              "      <th>2</th>\n",
              "      <td>How A New Documentary Captures The Complexity ...</td>\n",
              "      <td>ARTS &amp; CULTURE</td>\n",
              "      <td>In \"Mija,\" director Isabel Castro combined mus...</td>\n",
              "      <td>how a new documentary captures the complexity ...</td>\n",
              "      <td>how a new documentary captures the complexity ...</td>\n",
              "    </tr>\n",
              "    <tr>\n",
              "      <th>3</th>\n",
              "      <td>Biden At UN To Call Russian War An Affront To ...</td>\n",
              "      <td>WORLD NEWS</td>\n",
              "      <td>White House officials say the crux of the pres...</td>\n",
              "      <td>biden at un to call russian war an affront to ...</td>\n",
              "      <td>biden at un to call russian war an affront to ...</td>\n",
              "    </tr>\n",
              "    <tr>\n",
              "      <th>4</th>\n",
              "      <td>World Cup Captains Want To Wear Rainbow Armban...</td>\n",
              "      <td>WORLD NEWS</td>\n",
              "      <td>FIFA has come under pressure from several Euro...</td>\n",
              "      <td>world cup captains want to wear rainbow armban...</td>\n",
              "      <td>world cup captains want to wear rainbow armban...</td>\n",
              "    </tr>\n",
              "  </tbody>\n",
              "</table>\n",
              "</div>\n",
              "    <div class=\"colab-df-buttons\">\n",
              "\n",
              "  <div class=\"colab-df-container\">\n",
              "    <button class=\"colab-df-convert\" onclick=\"convertToInteractive('df-f3821611-8971-4403-a1ae-87dbc45205d3')\"\n",
              "            title=\"Convert this dataframe to an interactive table.\"\n",
              "            style=\"display:none;\">\n",
              "\n",
              "  <svg xmlns=\"http://www.w3.org/2000/svg\" height=\"24px\" viewBox=\"0 -960 960 960\">\n",
              "    <path d=\"M120-120v-720h720v720H120Zm60-500h600v-160H180v160Zm220 220h160v-160H400v160Zm0 220h160v-160H400v160ZM180-400h160v-160H180v160Zm440 0h160v-160H620v160ZM180-180h160v-160H180v160Zm440 0h160v-160H620v160Z\"/>\n",
              "  </svg>\n",
              "    </button>\n",
              "\n",
              "  <style>\n",
              "    .colab-df-container {\n",
              "      display:flex;\n",
              "      gap: 12px;\n",
              "    }\n",
              "\n",
              "    .colab-df-convert {\n",
              "      background-color: #E8F0FE;\n",
              "      border: none;\n",
              "      border-radius: 50%;\n",
              "      cursor: pointer;\n",
              "      display: none;\n",
              "      fill: #1967D2;\n",
              "      height: 32px;\n",
              "      padding: 0 0 0 0;\n",
              "      width: 32px;\n",
              "    }\n",
              "\n",
              "    .colab-df-convert:hover {\n",
              "      background-color: #E2EBFA;\n",
              "      box-shadow: 0px 1px 2px rgba(60, 64, 67, 0.3), 0px 1px 3px 1px rgba(60, 64, 67, 0.15);\n",
              "      fill: #174EA6;\n",
              "    }\n",
              "\n",
              "    .colab-df-buttons div {\n",
              "      margin-bottom: 4px;\n",
              "    }\n",
              "\n",
              "    [theme=dark] .colab-df-convert {\n",
              "      background-color: #3B4455;\n",
              "      fill: #D2E3FC;\n",
              "    }\n",
              "\n",
              "    [theme=dark] .colab-df-convert:hover {\n",
              "      background-color: #434B5C;\n",
              "      box-shadow: 0px 1px 3px 1px rgba(0, 0, 0, 0.15);\n",
              "      filter: drop-shadow(0px 1px 2px rgba(0, 0, 0, 0.3));\n",
              "      fill: #FFFFFF;\n",
              "    }\n",
              "  </style>\n",
              "\n",
              "    <script>\n",
              "      const buttonEl =\n",
              "        document.querySelector('#df-f3821611-8971-4403-a1ae-87dbc45205d3 button.colab-df-convert');\n",
              "      buttonEl.style.display =\n",
              "        google.colab.kernel.accessAllowed ? 'block' : 'none';\n",
              "\n",
              "      async function convertToInteractive(key) {\n",
              "        const element = document.querySelector('#df-f3821611-8971-4403-a1ae-87dbc45205d3');\n",
              "        const dataTable =\n",
              "          await google.colab.kernel.invokeFunction('convertToInteractive',\n",
              "                                                    [key], {});\n",
              "        if (!dataTable) return;\n",
              "\n",
              "        const docLinkHtml = 'Like what you see? Visit the ' +\n",
              "          '<a target=\"_blank\" href=https://colab.research.google.com/notebooks/data_table.ipynb>data table notebook</a>'\n",
              "          + ' to learn more about interactive tables.';\n",
              "        element.innerHTML = '';\n",
              "        dataTable['output_type'] = 'display_data';\n",
              "        await google.colab.output.renderOutput(dataTable, element);\n",
              "        const docLink = document.createElement('div');\n",
              "        docLink.innerHTML = docLinkHtml;\n",
              "        element.appendChild(docLink);\n",
              "      }\n",
              "    </script>\n",
              "  </div>\n",
              "\n",
              "\n",
              "<div id=\"df-5e1539f8-71db-47c3-b27e-497d3ca346e8\">\n",
              "  <button class=\"colab-df-quickchart\" onclick=\"quickchart('df-5e1539f8-71db-47c3-b27e-497d3ca346e8')\"\n",
              "            title=\"Suggest charts\"\n",
              "            style=\"display:none;\">\n",
              "\n",
              "<svg xmlns=\"http://www.w3.org/2000/svg\" height=\"24px\"viewBox=\"0 0 24 24\"\n",
              "     width=\"24px\">\n",
              "    <g>\n",
              "        <path d=\"M19 3H5c-1.1 0-2 .9-2 2v14c0 1.1.9 2 2 2h14c1.1 0 2-.9 2-2V5c0-1.1-.9-2-2-2zM9 17H7v-7h2v7zm4 0h-2V7h2v10zm4 0h-2v-4h2v4z\"/>\n",
              "    </g>\n",
              "</svg>\n",
              "  </button>\n",
              "\n",
              "<style>\n",
              "  .colab-df-quickchart {\n",
              "      --bg-color: #E8F0FE;\n",
              "      --fill-color: #1967D2;\n",
              "      --hover-bg-color: #E2EBFA;\n",
              "      --hover-fill-color: #174EA6;\n",
              "      --disabled-fill-color: #AAA;\n",
              "      --disabled-bg-color: #DDD;\n",
              "  }\n",
              "\n",
              "  [theme=dark] .colab-df-quickchart {\n",
              "      --bg-color: #3B4455;\n",
              "      --fill-color: #D2E3FC;\n",
              "      --hover-bg-color: #434B5C;\n",
              "      --hover-fill-color: #FFFFFF;\n",
              "      --disabled-bg-color: #3B4455;\n",
              "      --disabled-fill-color: #666;\n",
              "  }\n",
              "\n",
              "  .colab-df-quickchart {\n",
              "    background-color: var(--bg-color);\n",
              "    border: none;\n",
              "    border-radius: 50%;\n",
              "    cursor: pointer;\n",
              "    display: none;\n",
              "    fill: var(--fill-color);\n",
              "    height: 32px;\n",
              "    padding: 0;\n",
              "    width: 32px;\n",
              "  }\n",
              "\n",
              "  .colab-df-quickchart:hover {\n",
              "    background-color: var(--hover-bg-color);\n",
              "    box-shadow: 0 1px 2px rgba(60, 64, 67, 0.3), 0 1px 3px 1px rgba(60, 64, 67, 0.15);\n",
              "    fill: var(--button-hover-fill-color);\n",
              "  }\n",
              "\n",
              "  .colab-df-quickchart-complete:disabled,\n",
              "  .colab-df-quickchart-complete:disabled:hover {\n",
              "    background-color: var(--disabled-bg-color);\n",
              "    fill: var(--disabled-fill-color);\n",
              "    box-shadow: none;\n",
              "  }\n",
              "\n",
              "  .colab-df-spinner {\n",
              "    border: 2px solid var(--fill-color);\n",
              "    border-color: transparent;\n",
              "    border-bottom-color: var(--fill-color);\n",
              "    animation:\n",
              "      spin 1s steps(1) infinite;\n",
              "  }\n",
              "\n",
              "  @keyframes spin {\n",
              "    0% {\n",
              "      border-color: transparent;\n",
              "      border-bottom-color: var(--fill-color);\n",
              "      border-left-color: var(--fill-color);\n",
              "    }\n",
              "    20% {\n",
              "      border-color: transparent;\n",
              "      border-left-color: var(--fill-color);\n",
              "      border-top-color: var(--fill-color);\n",
              "    }\n",
              "    30% {\n",
              "      border-color: transparent;\n",
              "      border-left-color: var(--fill-color);\n",
              "      border-top-color: var(--fill-color);\n",
              "      border-right-color: var(--fill-color);\n",
              "    }\n",
              "    40% {\n",
              "      border-color: transparent;\n",
              "      border-right-color: var(--fill-color);\n",
              "      border-top-color: var(--fill-color);\n",
              "    }\n",
              "    60% {\n",
              "      border-color: transparent;\n",
              "      border-right-color: var(--fill-color);\n",
              "    }\n",
              "    80% {\n",
              "      border-color: transparent;\n",
              "      border-right-color: var(--fill-color);\n",
              "      border-bottom-color: var(--fill-color);\n",
              "    }\n",
              "    90% {\n",
              "      border-color: transparent;\n",
              "      border-bottom-color: var(--fill-color);\n",
              "    }\n",
              "  }\n",
              "</style>\n",
              "\n",
              "  <script>\n",
              "    async function quickchart(key) {\n",
              "      const quickchartButtonEl =\n",
              "        document.querySelector('#' + key + ' button');\n",
              "      quickchartButtonEl.disabled = true;  // To prevent multiple clicks.\n",
              "      quickchartButtonEl.classList.add('colab-df-spinner');\n",
              "      try {\n",
              "        const charts = await google.colab.kernel.invokeFunction(\n",
              "            'suggestCharts', [key], {});\n",
              "      } catch (error) {\n",
              "        console.error('Error during call to suggestCharts:', error);\n",
              "      }\n",
              "      quickchartButtonEl.classList.remove('colab-df-spinner');\n",
              "      quickchartButtonEl.classList.add('colab-df-quickchart-complete');\n",
              "    }\n",
              "    (() => {\n",
              "      let quickchartButtonEl =\n",
              "        document.querySelector('#df-5e1539f8-71db-47c3-b27e-497d3ca346e8 button');\n",
              "      quickchartButtonEl.style.display =\n",
              "        google.colab.kernel.accessAllowed ? 'block' : 'none';\n",
              "    })();\n",
              "  </script>\n",
              "</div>\n",
              "\n",
              "    </div>\n",
              "  </div>\n"
            ],
            "text/plain": [
              "                                            headline        category  \\\n",
              "0  The Funniest Tweets From Parents This Week (Se...       PARENTING   \n",
              "1  Puerto Ricans Desperate For Water After Hurric...      WORLD NEWS   \n",
              "2  How A New Documentary Captures The Complexity ...  ARTS & CULTURE   \n",
              "3  Biden At UN To Call Russian War An Affront To ...      WORLD NEWS   \n",
              "4  World Cup Captains Want To Wear Rainbow Armban...      WORLD NEWS   \n",
              "\n",
              "                                   short_description  \\\n",
              "0  \"Accidentally put grown-up toothpaste on my to...   \n",
              "1  More than half a million people remained witho...   \n",
              "2  In \"Mija,\" director Isabel Castro combined mus...   \n",
              "3  White House officials say the crux of the pres...   \n",
              "4  FIFA has come under pressure from several Euro...   \n",
              "\n",
              "                                            combined  \\\n",
              "0  the funniest tweets from parents this week sep...   \n",
              "1  puerto ricans desperate for water after hurric...   \n",
              "2  how a new documentary captures the complexity ...   \n",
              "3  biden at un to call russian war an affront to ...   \n",
              "4  world cup captains want to wear rainbow armban...   \n",
              "\n",
              "                                         full_review  \n",
              "0  the funniest tweets from parents this week sep...  \n",
              "1  puerto ricans desperate for water after hurric...  \n",
              "2  how a new documentary captures the complexity ...  \n",
              "3  biden at un to call russian war an affront to ...  \n",
              "4  world cup captains want to wear rainbow armban...  "
            ]
          },
          "execution_count": 58,
          "metadata": {},
          "output_type": "execute_result"
        }
      ],
      "source": [
        "data = pd.read_csv('train.csv')\n",
        "data['full_review'] = data['combined']\n",
        "data.head()"
      ]
    },
    {
      "cell_type": "code",
      "execution_count": null,
      "metadata": {
        "colab": {
          "base_uri": "https://localhost:8080/",
          "height": 206
        },
        "id": "x9V0SNFEjfQw",
        "outputId": "25f93fbd-fd4a-4858-d01d-9f933a041722"
      },
      "outputs": [
        {
          "data": {
            "text/html": [
              "\n",
              "  <div id=\"df-d4bfc130-9ac0-4437-ab06-f88a776db81d\" class=\"colab-df-container\">\n",
              "    <div>\n",
              "<style scoped>\n",
              "    .dataframe tbody tr th:only-of-type {\n",
              "        vertical-align: middle;\n",
              "    }\n",
              "\n",
              "    .dataframe tbody tr th {\n",
              "        vertical-align: top;\n",
              "    }\n",
              "\n",
              "    .dataframe thead th {\n",
              "        text-align: right;\n",
              "    }\n",
              "</style>\n",
              "<table border=\"1\" class=\"dataframe\">\n",
              "  <thead>\n",
              "    <tr style=\"text-align: right;\">\n",
              "      <th></th>\n",
              "      <th>Title</th>\n",
              "      <th>Short Description</th>\n",
              "      <th>Category</th>\n",
              "    </tr>\n",
              "  </thead>\n",
              "  <tbody>\n",
              "    <tr>\n",
              "      <th>0</th>\n",
              "      <td>Sadio Mane’s Winning Penalty Sends Senegal to ...</td>\n",
              "      <td>Sadio Mane delivered the winning spot kick as ...</td>\n",
              "      <td>sports</td>\n",
              "    </tr>\n",
              "    <tr>\n",
              "      <th>1</th>\n",
              "      <td>Nigeria Needs to Boost Food Reserves, Says Cen...</td>\n",
              "      <td>The Governor of the Central Bank of Nigeria (C...</td>\n",
              "      <td>business</td>\n",
              "    </tr>\n",
              "    <tr>\n",
              "      <th>2</th>\n",
              "      <td>Nigerian Activist Sowore Shot by Police, Senio...</td>\n",
              "      <td>Prominent Nigerian activist and publisher of S...</td>\n",
              "      <td>politics</td>\n",
              "    </tr>\n",
              "    <tr>\n",
              "      <th>3</th>\n",
              "      <td>Monkeypox: Russia Urges WHO to Investigate US-...</td>\n",
              "      <td>Russia is urging the WHO leadership to investi...</td>\n",
              "      <td>health</td>\n",
              "    </tr>\n",
              "    <tr>\n",
              "      <th>4</th>\n",
              "      <td>Disney Honours Chadwick Boseman With Updated ‘...</td>\n",
              "      <td>Disney Plus has updated the Marvel logo introd...</td>\n",
              "      <td>entertainment</td>\n",
              "    </tr>\n",
              "  </tbody>\n",
              "</table>\n",
              "</div>\n",
              "    <div class=\"colab-df-buttons\">\n",
              "\n",
              "  <div class=\"colab-df-container\">\n",
              "    <button class=\"colab-df-convert\" onclick=\"convertToInteractive('df-d4bfc130-9ac0-4437-ab06-f88a776db81d')\"\n",
              "            title=\"Convert this dataframe to an interactive table.\"\n",
              "            style=\"display:none;\">\n",
              "\n",
              "  <svg xmlns=\"http://www.w3.org/2000/svg\" height=\"24px\" viewBox=\"0 -960 960 960\">\n",
              "    <path d=\"M120-120v-720h720v720H120Zm60-500h600v-160H180v160Zm220 220h160v-160H400v160Zm0 220h160v-160H400v160ZM180-400h160v-160H180v160Zm440 0h160v-160H620v160ZM180-180h160v-160H180v160Zm440 0h160v-160H620v160Z\"/>\n",
              "  </svg>\n",
              "    </button>\n",
              "\n",
              "  <style>\n",
              "    .colab-df-container {\n",
              "      display:flex;\n",
              "      gap: 12px;\n",
              "    }\n",
              "\n",
              "    .colab-df-convert {\n",
              "      background-color: #E8F0FE;\n",
              "      border: none;\n",
              "      border-radius: 50%;\n",
              "      cursor: pointer;\n",
              "      display: none;\n",
              "      fill: #1967D2;\n",
              "      height: 32px;\n",
              "      padding: 0 0 0 0;\n",
              "      width: 32px;\n",
              "    }\n",
              "\n",
              "    .colab-df-convert:hover {\n",
              "      background-color: #E2EBFA;\n",
              "      box-shadow: 0px 1px 2px rgba(60, 64, 67, 0.3), 0px 1px 3px 1px rgba(60, 64, 67, 0.15);\n",
              "      fill: #174EA6;\n",
              "    }\n",
              "\n",
              "    .colab-df-buttons div {\n",
              "      margin-bottom: 4px;\n",
              "    }\n",
              "\n",
              "    [theme=dark] .colab-df-convert {\n",
              "      background-color: #3B4455;\n",
              "      fill: #D2E3FC;\n",
              "    }\n",
              "\n",
              "    [theme=dark] .colab-df-convert:hover {\n",
              "      background-color: #434B5C;\n",
              "      box-shadow: 0px 1px 3px 1px rgba(0, 0, 0, 0.15);\n",
              "      filter: drop-shadow(0px 1px 2px rgba(0, 0, 0, 0.3));\n",
              "      fill: #FFFFFF;\n",
              "    }\n",
              "  </style>\n",
              "\n",
              "    <script>\n",
              "      const buttonEl =\n",
              "        document.querySelector('#df-d4bfc130-9ac0-4437-ab06-f88a776db81d button.colab-df-convert');\n",
              "      buttonEl.style.display =\n",
              "        google.colab.kernel.accessAllowed ? 'block' : 'none';\n",
              "\n",
              "      async function convertToInteractive(key) {\n",
              "        const element = document.querySelector('#df-d4bfc130-9ac0-4437-ab06-f88a776db81d');\n",
              "        const dataTable =\n",
              "          await google.colab.kernel.invokeFunction('convertToInteractive',\n",
              "                                                    [key], {});\n",
              "        if (!dataTable) return;\n",
              "\n",
              "        const docLinkHtml = 'Like what you see? Visit the ' +\n",
              "          '<a target=\"_blank\" href=https://colab.research.google.com/notebooks/data_table.ipynb>data table notebook</a>'\n",
              "          + ' to learn more about interactive tables.';\n",
              "        element.innerHTML = '';\n",
              "        dataTable['output_type'] = 'display_data';\n",
              "        await google.colab.output.renderOutput(dataTable, element);\n",
              "        const docLink = document.createElement('div');\n",
              "        docLink.innerHTML = docLinkHtml;\n",
              "        element.appendChild(docLink);\n",
              "      }\n",
              "    </script>\n",
              "  </div>\n",
              "\n",
              "\n",
              "<div id=\"df-3fa3dcb5-c603-4d98-b998-3023225e6844\">\n",
              "  <button class=\"colab-df-quickchart\" onclick=\"quickchart('df-3fa3dcb5-c603-4d98-b998-3023225e6844')\"\n",
              "            title=\"Suggest charts\"\n",
              "            style=\"display:none;\">\n",
              "\n",
              "<svg xmlns=\"http://www.w3.org/2000/svg\" height=\"24px\"viewBox=\"0 0 24 24\"\n",
              "     width=\"24px\">\n",
              "    <g>\n",
              "        <path d=\"M19 3H5c-1.1 0-2 .9-2 2v14c0 1.1.9 2 2 2h14c1.1 0 2-.9 2-2V5c0-1.1-.9-2-2-2zM9 17H7v-7h2v7zm4 0h-2V7h2v10zm4 0h-2v-4h2v4z\"/>\n",
              "    </g>\n",
              "</svg>\n",
              "  </button>\n",
              "\n",
              "<style>\n",
              "  .colab-df-quickchart {\n",
              "      --bg-color: #E8F0FE;\n",
              "      --fill-color: #1967D2;\n",
              "      --hover-bg-color: #E2EBFA;\n",
              "      --hover-fill-color: #174EA6;\n",
              "      --disabled-fill-color: #AAA;\n",
              "      --disabled-bg-color: #DDD;\n",
              "  }\n",
              "\n",
              "  [theme=dark] .colab-df-quickchart {\n",
              "      --bg-color: #3B4455;\n",
              "      --fill-color: #D2E3FC;\n",
              "      --hover-bg-color: #434B5C;\n",
              "      --hover-fill-color: #FFFFFF;\n",
              "      --disabled-bg-color: #3B4455;\n",
              "      --disabled-fill-color: #666;\n",
              "  }\n",
              "\n",
              "  .colab-df-quickchart {\n",
              "    background-color: var(--bg-color);\n",
              "    border: none;\n",
              "    border-radius: 50%;\n",
              "    cursor: pointer;\n",
              "    display: none;\n",
              "    fill: var(--fill-color);\n",
              "    height: 32px;\n",
              "    padding: 0;\n",
              "    width: 32px;\n",
              "  }\n",
              "\n",
              "  .colab-df-quickchart:hover {\n",
              "    background-color: var(--hover-bg-color);\n",
              "    box-shadow: 0 1px 2px rgba(60, 64, 67, 0.3), 0 1px 3px 1px rgba(60, 64, 67, 0.15);\n",
              "    fill: var(--button-hover-fill-color);\n",
              "  }\n",
              "\n",
              "  .colab-df-quickchart-complete:disabled,\n",
              "  .colab-df-quickchart-complete:disabled:hover {\n",
              "    background-color: var(--disabled-bg-color);\n",
              "    fill: var(--disabled-fill-color);\n",
              "    box-shadow: none;\n",
              "  }\n",
              "\n",
              "  .colab-df-spinner {\n",
              "    border: 2px solid var(--fill-color);\n",
              "    border-color: transparent;\n",
              "    border-bottom-color: var(--fill-color);\n",
              "    animation:\n",
              "      spin 1s steps(1) infinite;\n",
              "  }\n",
              "\n",
              "  @keyframes spin {\n",
              "    0% {\n",
              "      border-color: transparent;\n",
              "      border-bottom-color: var(--fill-color);\n",
              "      border-left-color: var(--fill-color);\n",
              "    }\n",
              "    20% {\n",
              "      border-color: transparent;\n",
              "      border-left-color: var(--fill-color);\n",
              "      border-top-color: var(--fill-color);\n",
              "    }\n",
              "    30% {\n",
              "      border-color: transparent;\n",
              "      border-left-color: var(--fill-color);\n",
              "      border-top-color: var(--fill-color);\n",
              "      border-right-color: var(--fill-color);\n",
              "    }\n",
              "    40% {\n",
              "      border-color: transparent;\n",
              "      border-right-color: var(--fill-color);\n",
              "      border-top-color: var(--fill-color);\n",
              "    }\n",
              "    60% {\n",
              "      border-color: transparent;\n",
              "      border-right-color: var(--fill-color);\n",
              "    }\n",
              "    80% {\n",
              "      border-color: transparent;\n",
              "      border-right-color: var(--fill-color);\n",
              "      border-bottom-color: var(--fill-color);\n",
              "    }\n",
              "    90% {\n",
              "      border-color: transparent;\n",
              "      border-bottom-color: var(--fill-color);\n",
              "    }\n",
              "  }\n",
              "</style>\n",
              "\n",
              "  <script>\n",
              "    async function quickchart(key) {\n",
              "      const quickchartButtonEl =\n",
              "        document.querySelector('#' + key + ' button');\n",
              "      quickchartButtonEl.disabled = true;  // To prevent multiple clicks.\n",
              "      quickchartButtonEl.classList.add('colab-df-spinner');\n",
              "      try {\n",
              "        const charts = await google.colab.kernel.invokeFunction(\n",
              "            'suggestCharts', [key], {});\n",
              "      } catch (error) {\n",
              "        console.error('Error during call to suggestCharts:', error);\n",
              "      }\n",
              "      quickchartButtonEl.classList.remove('colab-df-spinner');\n",
              "      quickchartButtonEl.classList.add('colab-df-quickchart-complete');\n",
              "    }\n",
              "    (() => {\n",
              "      let quickchartButtonEl =\n",
              "        document.querySelector('#df-3fa3dcb5-c603-4d98-b998-3023225e6844 button');\n",
              "      quickchartButtonEl.style.display =\n",
              "        google.colab.kernel.accessAllowed ? 'block' : 'none';\n",
              "    })();\n",
              "  </script>\n",
              "</div>\n",
              "\n",
              "    </div>\n",
              "  </div>\n"
            ],
            "text/plain": [
              "                                               Title  \\\n",
              "0  Sadio Mane’s Winning Penalty Sends Senegal to ...   \n",
              "1  Nigeria Needs to Boost Food Reserves, Says Cen...   \n",
              "2  Nigerian Activist Sowore Shot by Police, Senio...   \n",
              "3  Monkeypox: Russia Urges WHO to Investigate US-...   \n",
              "4  Disney Honours Chadwick Boseman With Updated ‘...   \n",
              "\n",
              "                                   Short Description       Category  \n",
              "0  Sadio Mane delivered the winning spot kick as ...         sports  \n",
              "1  The Governor of the Central Bank of Nigeria (C...       business  \n",
              "2  Prominent Nigerian activist and publisher of S...       politics  \n",
              "3  Russia is urging the WHO leadership to investi...         health  \n",
              "4  Disney Plus has updated the Marvel logo introd...  entertainment  "
            ]
          },
          "execution_count": 59,
          "metadata": {},
          "output_type": "execute_result"
        }
      ],
      "source": [
        "test_data = pd.read_csv('test.csv')\n",
        "test_data.head()"
      ]
    },
    {
      "cell_type": "code",
      "execution_count": null,
      "metadata": {
        "id": "IYj5xvUBXo5w"
      },
      "outputs": [],
      "source": [
        "# remove NULL Values from data\n",
        "data = data[pd.notnull(data['full_review'])]"
      ]
    },
    {
      "cell_type": "code",
      "execution_count": null,
      "metadata": {
        "id": "CNpNo39uXo5x"
      },
      "outputs": [],
      "source": [
        "data['len'] = data['full_review'].apply(lambda s : len(s))"
      ]
    },
    {
      "cell_type": "code",
      "execution_count": null,
      "metadata": {
        "colab": {
          "base_uri": "https://localhost:8080/",
          "height": 206
        },
        "id": "V46bd2ozXo5y",
        "outputId": "c8845858-bd91-4f44-8ffa-4a9e34a2f5e7"
      },
      "outputs": [
        {
          "data": {
            "text/html": [
              "\n",
              "  <div id=\"df-08181803-29f0-4e17-abfa-2973a07fcf26\" class=\"colab-df-container\">\n",
              "    <div>\n",
              "<style scoped>\n",
              "    .dataframe tbody tr th:only-of-type {\n",
              "        vertical-align: middle;\n",
              "    }\n",
              "\n",
              "    .dataframe tbody tr th {\n",
              "        vertical-align: top;\n",
              "    }\n",
              "\n",
              "    .dataframe thead th {\n",
              "        text-align: right;\n",
              "    }\n",
              "</style>\n",
              "<table border=\"1\" class=\"dataframe\">\n",
              "  <thead>\n",
              "    <tr style=\"text-align: right;\">\n",
              "      <th></th>\n",
              "      <th>category</th>\n",
              "      <th>full_review</th>\n",
              "    </tr>\n",
              "  </thead>\n",
              "  <tbody>\n",
              "    <tr>\n",
              "      <th>8</th>\n",
              "      <td>POLITICS</td>\n",
              "      <td>32441</td>\n",
              "    </tr>\n",
              "    <tr>\n",
              "      <th>14</th>\n",
              "      <td>WELLNESS</td>\n",
              "      <td>23208</td>\n",
              "    </tr>\n",
              "    <tr>\n",
              "      <th>2</th>\n",
              "      <td>ENTERTAINMENT</td>\n",
              "      <td>14774</td>\n",
              "    </tr>\n",
              "    <tr>\n",
              "      <th>7</th>\n",
              "      <td>PARENTING</td>\n",
              "      <td>12346</td>\n",
              "    </tr>\n",
              "    <tr>\n",
              "      <th>12</th>\n",
              "      <td>STYLE &amp; BEAUTY</td>\n",
              "      <td>11369</td>\n",
              "    </tr>\n",
              "  </tbody>\n",
              "</table>\n",
              "</div>\n",
              "    <div class=\"colab-df-buttons\">\n",
              "\n",
              "  <div class=\"colab-df-container\">\n",
              "    <button class=\"colab-df-convert\" onclick=\"convertToInteractive('df-08181803-29f0-4e17-abfa-2973a07fcf26')\"\n",
              "            title=\"Convert this dataframe to an interactive table.\"\n",
              "            style=\"display:none;\">\n",
              "\n",
              "  <svg xmlns=\"http://www.w3.org/2000/svg\" height=\"24px\" viewBox=\"0 -960 960 960\">\n",
              "    <path d=\"M120-120v-720h720v720H120Zm60-500h600v-160H180v160Zm220 220h160v-160H400v160Zm0 220h160v-160H400v160ZM180-400h160v-160H180v160Zm440 0h160v-160H620v160ZM180-180h160v-160H180v160Zm440 0h160v-160H620v160Z\"/>\n",
              "  </svg>\n",
              "    </button>\n",
              "\n",
              "  <style>\n",
              "    .colab-df-container {\n",
              "      display:flex;\n",
              "      gap: 12px;\n",
              "    }\n",
              "\n",
              "    .colab-df-convert {\n",
              "      background-color: #E8F0FE;\n",
              "      border: none;\n",
              "      border-radius: 50%;\n",
              "      cursor: pointer;\n",
              "      display: none;\n",
              "      fill: #1967D2;\n",
              "      height: 32px;\n",
              "      padding: 0 0 0 0;\n",
              "      width: 32px;\n",
              "    }\n",
              "\n",
              "    .colab-df-convert:hover {\n",
              "      background-color: #E2EBFA;\n",
              "      box-shadow: 0px 1px 2px rgba(60, 64, 67, 0.3), 0px 1px 3px 1px rgba(60, 64, 67, 0.15);\n",
              "      fill: #174EA6;\n",
              "    }\n",
              "\n",
              "    .colab-df-buttons div {\n",
              "      margin-bottom: 4px;\n",
              "    }\n",
              "\n",
              "    [theme=dark] .colab-df-convert {\n",
              "      background-color: #3B4455;\n",
              "      fill: #D2E3FC;\n",
              "    }\n",
              "\n",
              "    [theme=dark] .colab-df-convert:hover {\n",
              "      background-color: #434B5C;\n",
              "      box-shadow: 0px 1px 3px 1px rgba(0, 0, 0, 0.15);\n",
              "      filter: drop-shadow(0px 1px 2px rgba(0, 0, 0, 0.3));\n",
              "      fill: #FFFFFF;\n",
              "    }\n",
              "  </style>\n",
              "\n",
              "    <script>\n",
              "      const buttonEl =\n",
              "        document.querySelector('#df-08181803-29f0-4e17-abfa-2973a07fcf26 button.colab-df-convert');\n",
              "      buttonEl.style.display =\n",
              "        google.colab.kernel.accessAllowed ? 'block' : 'none';\n",
              "\n",
              "      async function convertToInteractive(key) {\n",
              "        const element = document.querySelector('#df-08181803-29f0-4e17-abfa-2973a07fcf26');\n",
              "        const dataTable =\n",
              "          await google.colab.kernel.invokeFunction('convertToInteractive',\n",
              "                                                    [key], {});\n",
              "        if (!dataTable) return;\n",
              "\n",
              "        const docLinkHtml = 'Like what you see? Visit the ' +\n",
              "          '<a target=\"_blank\" href=https://colab.research.google.com/notebooks/data_table.ipynb>data table notebook</a>'\n",
              "          + ' to learn more about interactive tables.';\n",
              "        element.innerHTML = '';\n",
              "        dataTable['output_type'] = 'display_data';\n",
              "        await google.colab.output.renderOutput(dataTable, element);\n",
              "        const docLink = document.createElement('div');\n",
              "        docLink.innerHTML = docLinkHtml;\n",
              "        element.appendChild(docLink);\n",
              "      }\n",
              "    </script>\n",
              "  </div>\n",
              "\n",
              "\n",
              "<div id=\"df-b48f5c9c-be9b-4ead-adb9-e4c40618afdc\">\n",
              "  <button class=\"colab-df-quickchart\" onclick=\"quickchart('df-b48f5c9c-be9b-4ead-adb9-e4c40618afdc')\"\n",
              "            title=\"Suggest charts\"\n",
              "            style=\"display:none;\">\n",
              "\n",
              "<svg xmlns=\"http://www.w3.org/2000/svg\" height=\"24px\"viewBox=\"0 0 24 24\"\n",
              "     width=\"24px\">\n",
              "    <g>\n",
              "        <path d=\"M19 3H5c-1.1 0-2 .9-2 2v14c0 1.1.9 2 2 2h14c1.1 0 2-.9 2-2V5c0-1.1-.9-2-2-2zM9 17H7v-7h2v7zm4 0h-2V7h2v10zm4 0h-2v-4h2v4z\"/>\n",
              "    </g>\n",
              "</svg>\n",
              "  </button>\n",
              "\n",
              "<style>\n",
              "  .colab-df-quickchart {\n",
              "      --bg-color: #E8F0FE;\n",
              "      --fill-color: #1967D2;\n",
              "      --hover-bg-color: #E2EBFA;\n",
              "      --hover-fill-color: #174EA6;\n",
              "      --disabled-fill-color: #AAA;\n",
              "      --disabled-bg-color: #DDD;\n",
              "  }\n",
              "\n",
              "  [theme=dark] .colab-df-quickchart {\n",
              "      --bg-color: #3B4455;\n",
              "      --fill-color: #D2E3FC;\n",
              "      --hover-bg-color: #434B5C;\n",
              "      --hover-fill-color: #FFFFFF;\n",
              "      --disabled-bg-color: #3B4455;\n",
              "      --disabled-fill-color: #666;\n",
              "  }\n",
              "\n",
              "  .colab-df-quickchart {\n",
              "    background-color: var(--bg-color);\n",
              "    border: none;\n",
              "    border-radius: 50%;\n",
              "    cursor: pointer;\n",
              "    display: none;\n",
              "    fill: var(--fill-color);\n",
              "    height: 32px;\n",
              "    padding: 0;\n",
              "    width: 32px;\n",
              "  }\n",
              "\n",
              "  .colab-df-quickchart:hover {\n",
              "    background-color: var(--hover-bg-color);\n",
              "    box-shadow: 0 1px 2px rgba(60, 64, 67, 0.3), 0 1px 3px 1px rgba(60, 64, 67, 0.15);\n",
              "    fill: var(--button-hover-fill-color);\n",
              "  }\n",
              "\n",
              "  .colab-df-quickchart-complete:disabled,\n",
              "  .colab-df-quickchart-complete:disabled:hover {\n",
              "    background-color: var(--disabled-bg-color);\n",
              "    fill: var(--disabled-fill-color);\n",
              "    box-shadow: none;\n",
              "  }\n",
              "\n",
              "  .colab-df-spinner {\n",
              "    border: 2px solid var(--fill-color);\n",
              "    border-color: transparent;\n",
              "    border-bottom-color: var(--fill-color);\n",
              "    animation:\n",
              "      spin 1s steps(1) infinite;\n",
              "  }\n",
              "\n",
              "  @keyframes spin {\n",
              "    0% {\n",
              "      border-color: transparent;\n",
              "      border-bottom-color: var(--fill-color);\n",
              "      border-left-color: var(--fill-color);\n",
              "    }\n",
              "    20% {\n",
              "      border-color: transparent;\n",
              "      border-left-color: var(--fill-color);\n",
              "      border-top-color: var(--fill-color);\n",
              "    }\n",
              "    30% {\n",
              "      border-color: transparent;\n",
              "      border-left-color: var(--fill-color);\n",
              "      border-top-color: var(--fill-color);\n",
              "      border-right-color: var(--fill-color);\n",
              "    }\n",
              "    40% {\n",
              "      border-color: transparent;\n",
              "      border-right-color: var(--fill-color);\n",
              "      border-top-color: var(--fill-color);\n",
              "    }\n",
              "    60% {\n",
              "      border-color: transparent;\n",
              "      border-right-color: var(--fill-color);\n",
              "    }\n",
              "    80% {\n",
              "      border-color: transparent;\n",
              "      border-right-color: var(--fill-color);\n",
              "      border-bottom-color: var(--fill-color);\n",
              "    }\n",
              "    90% {\n",
              "      border-color: transparent;\n",
              "      border-bottom-color: var(--fill-color);\n",
              "    }\n",
              "  }\n",
              "</style>\n",
              "\n",
              "  <script>\n",
              "    async function quickchart(key) {\n",
              "      const quickchartButtonEl =\n",
              "        document.querySelector('#' + key + ' button');\n",
              "      quickchartButtonEl.disabled = true;  // To prevent multiple clicks.\n",
              "      quickchartButtonEl.classList.add('colab-df-spinner');\n",
              "      try {\n",
              "        const charts = await google.colab.kernel.invokeFunction(\n",
              "            'suggestCharts', [key], {});\n",
              "      } catch (error) {\n",
              "        console.error('Error during call to suggestCharts:', error);\n",
              "      }\n",
              "      quickchartButtonEl.classList.remove('colab-df-spinner');\n",
              "      quickchartButtonEl.classList.add('colab-df-quickchart-complete');\n",
              "    }\n",
              "    (() => {\n",
              "      let quickchartButtonEl =\n",
              "        document.querySelector('#df-b48f5c9c-be9b-4ead-adb9-e4c40618afdc button');\n",
              "      quickchartButtonEl.style.display =\n",
              "        google.colab.kernel.accessAllowed ? 'block' : 'none';\n",
              "    })();\n",
              "  </script>\n",
              "</div>\n",
              "\n",
              "    </div>\n",
              "  </div>\n"
            ],
            "text/plain": [
              "          category  full_review\n",
              "8         POLITICS        32441\n",
              "14        WELLNESS        23208\n",
              "2    ENTERTAINMENT        14774\n",
              "7        PARENTING        12346\n",
              "12  STYLE & BEAUTY        11369"
            ]
          },
          "execution_count": 63,
          "metadata": {},
          "output_type": "execute_result"
        }
      ],
      "source": [
        "# Preprocessing Y Column\n",
        "# We are only going to be classifying categorys for which the count of reviews are more than 3000.\n",
        "count_df = data[['category','full_review']].groupby('category').aggregate({'full_review':'count'}).reset_index().sort_values('full_review',ascending=False)\n",
        "count_df.head()"
      ]
    },
    {
      "cell_type": "code",
      "execution_count": null,
      "metadata": {
        "id": "opKPBTzsXo5y"
      },
      "outputs": [],
      "source": [
        "target_categorys = count_df[count_df['full_review']>=5000]['category'].values"
      ]
    },
    {
      "cell_type": "code",
      "execution_count": null,
      "metadata": {
        "colab": {
          "base_uri": "https://localhost:8080/"
        },
        "id": "35YUZDHAPeOd",
        "outputId": "2dbd6873-81c9-4de3-fb2c-17b57567eb15"
      },
      "outputs": [
        {
          "name": "stdout",
          "output_type": "stream",
          "text": [
            "['POLITICS' 'WELLNESS' 'ENTERTAINMENT' 'PARENTING' 'STYLE & BEAUTY'\n",
            " 'OTHER' 'TRAVEL' 'FOOD & DRINK' 'WORLD NEWS' 'FINANCE']\n"
          ]
        }
      ],
      "source": [
        "print(target_categorys)"
      ]
    },
    {
      "cell_type": "code",
      "execution_count": null,
      "metadata": {
        "id": "EfcX_nuSXo5z"
      },
      "outputs": [],
      "source": [
        "def category_parser(x):\n",
        "    if x in target_categorys:\n",
        "        return x\n",
        "    else:\n",
        "        return \"OTHER\"\n",
        "\n",
        "data['category'] = data['category'].apply(lambda x: category_parser(x))"
      ]
    },
    {
      "cell_type": "code",
      "execution_count": null,
      "metadata": {
        "id": "qaB5OtzqXo5z"
      },
      "outputs": [],
      "source": [
        "#data = data[data['category']!='OTHER']"
      ]
    },
    {
      "cell_type": "code",
      "execution_count": null,
      "metadata": {
        "colab": {
          "base_uri": "https://localhost:8080/"
        },
        "id": "0Kc-3FNmcXoz",
        "outputId": "371f4210-5c5b-416f-c88d-6f274da3ce71"
      },
      "outputs": [
        {
          "name": "stdout",
          "output_type": "stream",
          "text": [
            "POLITICS          32441\n",
            "OTHER             30010\n",
            "WELLNESS          23208\n",
            "ENTERTAINMENT     14774\n",
            "PARENTING         12346\n",
            "STYLE & BEAUTY    11369\n",
            "TRAVEL             9421\n",
            "FOOD & DRINK       8271\n",
            "WORLD NEWS         8203\n",
            "FINANCE            6887\n",
            "Name: category, dtype: int64\n"
          ]
        }
      ],
      "source": [
        "print(data['category'].value_counts())"
      ]
    },
    {
      "cell_type": "code",
      "execution_count": null,
      "metadata": {
        "colab": {
          "base_uri": "https://localhost:8080/"
        },
        "id": "OJLWLsiuXo50",
        "outputId": "8ec8e781-a762-40a2-e4e1-9564ff50809c"
      },
      "outputs": [
        {
          "data": {
            "text/plain": [
              "array(['PARENTING', 'WORLD NEWS', 'OTHER', 'ENTERTAINMENT', 'POLITICS',\n",
              "       'WELLNESS', 'FINANCE', 'STYLE & BEAUTY', 'FOOD & DRINK', 'TRAVEL'],\n",
              "      dtype=object)"
            ]
          },
          "execution_count": 70,
          "metadata": {},
          "output_type": "execute_result"
        }
      ],
      "source": [
        "data['category'].unique()"
      ]
    },
    {
      "cell_type": "code",
      "execution_count": null,
      "metadata": {
        "colab": {
          "base_uri": "https://localhost:8080/"
        },
        "id": "hlKSp5rGmNrj",
        "outputId": "ad6694cd-93ca-4a85-c2d8-675a2c70de00"
      },
      "outputs": [
        {
          "name": "stdout",
          "output_type": "stream",
          "text": [
            "          category  full_review\n",
            "8         POLITICS        32441\n",
            "14        WELLNESS        23208\n",
            "2    ENTERTAINMENT        14774\n",
            "7        PARENTING        12346\n",
            "12  STYLE & BEAUTY        11369\n",
            "6            OTHER        10227\n",
            "13          TRAVEL         9421\n",
            "5     FOOD & DRINK         8271\n",
            "15      WORLD NEWS         8203\n",
            "4          FINANCE         6887\n",
            "11          SPORTS         4414\n",
            "10  SCIENCE & TECH         3906\n",
            "3      ENVIRONMENT         3488\n",
            "0   ARTS & CULTURE         3265\n",
            "1            CRIME         2832\n",
            "9         RELIGION         1878\n"
          ]
        }
      ],
      "source": [
        "import pandas as pd\n",
        "\n",
        "pd.set_option('display.max_rows', None)\n",
        "print(count_df)\n",
        "pd.reset_option('display.max_rows')  # Reset to default after printing\n"
      ]
    },
    {
      "cell_type": "code",
      "execution_count": null,
      "metadata": {
        "colab": {
          "base_uri": "https://localhost:8080/"
        },
        "id": "1HTRWstsmePb",
        "outputId": "0128f397-e542-495c-8f11-778cefc067b9"
      },
      "outputs": [
        {
          "name": "stdout",
          "output_type": "stream",
          "text": [
            "tensor([0.3023, 0.4226, 0.6639, 0.7944, 0.8627, 0.9590, 1.0411, 1.1858, 1.1957,\n",
            "        1.4242, 2.2220, 2.5110, 2.8120, 3.0040, 3.4633, 5.2226],\n",
            "       device='cuda:0')\n",
            "torch.Size([16])\n"
          ]
        }
      ],
      "source": [
        "import torch\n",
        "import torch.nn as nn\n",
        "# Recalculating class weights\n",
        "total_samples = count_df['full_review'].sum()\n",
        "num_classes = len(count_df)  # Ensure this is the actual number of classes\n",
        "weights = total_samples / (num_classes * count_df['full_review'])\n",
        "\n",
        "# Convert to a PyTorch tensor and move to the device (e.g., GPU)\n",
        "DEVICE = torch.device(\"cuda\" if torch.cuda.is_available() else \"cpu\")\n",
        "class_weights = torch.tensor(weights, dtype=torch.float32).to(DEVICE)\n",
        "print(class_weights)\n",
        "print(class_weights.shape)\n",
        "\n",
        "# Assuming 'count_df' is your DataFrame with category counts\n",
        "total_samples = count_df['full_review'].sum()\n",
        "num_classes = len(count_df)\n",
        "weights = total_samples / (num_classes * count_df['full_review'])\n",
        "\n",
        "\n"
      ]
    },
    {
      "cell_type": "code",
      "execution_count": null,
      "metadata": {
        "id": "ONR3iEmwXo50"
      },
      "outputs": [],
      "source": [
        "from sklearn.model_selection import train_test_split\n",
        "train_X, test_X, train_y, test_y = train_test_split(data['full_review'], data['category'],\n",
        "                                                    stratify=data['category'],\n",
        "                                                    test_size=0.3)"
      ]
    },
    {
      "cell_type": "code",
      "execution_count": null,
      "metadata": {
        "colab": {
          "base_uri": "https://localhost:8080/"
        },
        "id": "TNvw93qkXo50",
        "outputId": "ea25e42b-b3ee-41c3-d52e-57008c479f86"
      },
      "outputs": [
        {
          "name": "stdout",
          "output_type": "stream",
          "text": [
            "Train shape :  (109851,)\n",
            "Test shape :  (47079,)\n"
          ]
        }
      ],
      "source": [
        "print(\"Train shape : \",train_X.shape)\n",
        "print(\"Test shape : \",test_X.shape)"
      ]
    },
    {
      "cell_type": "code",
      "execution_count": null,
      "metadata": {
        "id": "Lqt2qH59Xo51"
      },
      "outputs": [],
      "source": [
        "from keras.preprocessing.text import Tokenizer\n",
        "from keras.preprocessing.sequence import pad_sequences\n",
        "\n",
        "## Tokenize the sentences\n",
        "tokenizer = Tokenizer(num_words=max_features)\n",
        "tokenizer.fit_on_texts(list(train_X))\n",
        "train_X = tokenizer.texts_to_sequences(train_X)\n",
        "test_X = tokenizer.texts_to_sequences(test_X)\n",
        "\n",
        "## Pad the sentences\n",
        "train_X = pad_sequences(train_X, maxlen=maxlen)\n",
        "test_X = pad_sequences(test_X, maxlen=maxlen)"
      ]
    },
    {
      "cell_type": "code",
      "execution_count": null,
      "metadata": {
        "colab": {
          "base_uri": "https://localhost:8080/"
        },
        "id": "2Of6LG48Xo51",
        "outputId": "c66336eb-0243-42c5-f5c9-6062c6dbc3ec"
      },
      "outputs": [
        {
          "data": {
            "text/plain": [
              "array(['ENTERTAINMENT', 'FINANCE', 'FOOD & DRINK', 'OTHER', 'PARENTING',\n",
              "       'POLITICS', 'STYLE & BEAUTY', 'TRAVEL', 'WELLNESS', 'WORLD NEWS'],\n",
              "      dtype=object)"
            ]
          },
          "execution_count": 76,
          "metadata": {},
          "output_type": "execute_result"
        }
      ],
      "source": [
        "from sklearn.preprocessing import LabelEncoder, OneHotEncoder\n",
        "le = LabelEncoder()\n",
        "train_y = le.fit_transform(train_y.values)\n",
        "test_y = le.transform(test_y.values)\n",
        "le.classes_"
      ]
    },
    {
      "cell_type": "code",
      "execution_count": null,
      "metadata": {
        "id": "4yLrH8U_Xo51"
      },
      "outputs": [],
      "source": [
        "# ## FUNCTIONS TAKEN FROM https://www.kaggle.com/gmhost/gru-capsule\n",
        "\n",
        "from gensim.models import KeyedVectors\n",
        "\n",
        "def load_glove(word_index):\n",
        "    EMBEDDING_FILE = '/content/drive/MyDrive/IST-557_IP3/glove.840B.300d.txt'\n",
        "    def get_coefs(word,*arr): return word, np.asarray(arr, dtype='float32')[:300]\n",
        "    embeddings_index = dict(get_coefs(*o.split(\" \")) for o in open(EMBEDDING_FILE))\n",
        "\n",
        "    all_embs = np.stack(embeddings_index.values())\n",
        "    emb_mean,emb_std = -0.005838499,0.48782197\n",
        "    embed_size = all_embs.shape[1]\n",
        "\n",
        "    nb_words = min(max_features, len(word_index)+1)\n",
        "    embedding_matrix = np.random.normal(emb_mean, emb_std, (nb_words, embed_size))\n",
        "    for word, i in word_index.items():\n",
        "        if i >= max_features: continue\n",
        "        embedding_vector = embeddings_index.get(word)\n",
        "        if embedding_vector is not None:\n",
        "            embedding_matrix[i] = embedding_vector\n",
        "        else:\n",
        "            embedding_vector = embeddings_index.get(word.capitalize())\n",
        "            if embedding_vector is not None:\n",
        "                embedding_matrix[i] = embedding_vector\n",
        "    return embedding_matrix"
      ]
    },
    {
      "cell_type": "code",
      "execution_count": null,
      "metadata": {
        "colab": {
          "base_uri": "https://localhost:8080/"
        },
        "id": "tyPFfZNDXo52",
        "outputId": "9b31746e-e70b-41f3-9a01-61a5e2407582"
      },
      "outputs": [
        {
          "name": "stderr",
          "output_type": "stream",
          "text": [
            "/usr/local/lib/python3.10/dist-packages/IPython/core/interactiveshell.py:3553: FutureWarning:\n",
            "\n",
            "arrays to stack must be passed as a \"sequence\" type such as list or tuple. Support for non-sequence iterables such as generators is deprecated as of NumPy 1.16 and will raise an error in the future.\n",
            "\n"
          ]
        },
        {
          "data": {
            "text/plain": [
              "(18000, 300)"
            ]
          },
          "execution_count": 78,
          "metadata": {},
          "output_type": "execute_result"
        }
      ],
      "source": [
        "# missing entries in the embedding are set using np.random.normal so we have to seed here too\n",
        "\n",
        "embedding_matrix = load_glove(tokenizer.word_index)\n",
        "\n",
        "np.shape(embedding_matrix)"
      ]
    },
    {
      "cell_type": "code",
      "execution_count": null,
      "metadata": {
        "id": "H06YiQ5BXo53"
      },
      "outputs": [],
      "source": [
        "import torch\n",
        "import torch.nn as nn\n",
        "import torch.nn.functional as F\n",
        "\n",
        "'''\n",
        "Based on the results of hyperparameter tuning\n",
        "Best Params based on Tuning and experimentation\n",
        "lr: 6.104290174490393e-05\n",
        "num_filters: 50\n",
        "dropout_rate: 0.12167120754625324\n",
        "batch_size: 64\n",
        "'''\n",
        "\n",
        "# Updating the batch_size than the previously declared one based on the tuning results.\n",
        "batch_size = 64\n",
        "\n",
        "class EnhancedCNN_Text(nn.Module):\n",
        "    def __init__(self, n_classes, max_features, embed_size, embedding_matrix):\n",
        "        super(EnhancedCNN_Text, self).__init__()\n",
        "        filter_sizes = [1, 2, 3, 4, 5]  # More varied filter sizes\n",
        "        num_filters = 50  # Increased number of filters\n",
        "        self.embedding = nn.Embedding(max_features, embed_size)\n",
        "        self.embedding.weight = nn.Parameter(torch.tensor(embedding_matrix, dtype=torch.float32))\n",
        "        self.embedding.weight.requires_grad = False\n",
        "\n",
        "        self.convs = nn.ModuleList()\n",
        "        for size in filter_sizes:\n",
        "            conv_layers = [\n",
        "                nn.Conv2d(1, num_filters, (size, embed_size)),\n",
        "                nn.BatchNorm2d(num_filters),  # Batch normalization\n",
        "                nn.LeakyReLU(),  # Advanced activation function\n",
        "                nn.Conv2d(num_filters, num_filters, (size, 1)),  # Additional convolutional layer\n",
        "                nn.BatchNorm2d(num_filters),\n",
        "                nn.LeakyReLU()\n",
        "            ]\n",
        "            self.convs.append(nn.Sequential(*conv_layers))\n",
        "\n",
        "        self.global_max_pool = nn.AdaptiveMaxPool2d((1, None))  # Global max pooling\n",
        "        self.dropout = nn.Dropout(0.12167120754625324)  # Updated\n",
        "        self.fc = nn.Linear(num_filters * len(filter_sizes), n_classes)  # Fully connected layer\n",
        "\n",
        "    def forward(self, x):\n",
        "        x = self.embedding(x).unsqueeze(1)\n",
        "\n",
        "        x = [conv(x) for conv in self.convs]\n",
        "        x = [self.global_max_pool(conv_x).squeeze(3).squeeze(2) for conv_x in x]\n",
        "\n",
        "        x = torch.cat(x, 1)\n",
        "        x = self.dropout(x)\n",
        "        logit = self.fc(x)\n",
        "        return logit\n"
      ]
    },
    {
      "cell_type": "code",
      "execution_count": null,
      "metadata": {
        "colab": {
          "base_uri": "https://localhost:8080/"
        },
        "id": "-gDnD7wIXo53",
        "outputId": "becbf14a-6276-461a-a640-1b0cca856741"
      },
      "outputs": [
        {
          "name": "stderr",
          "output_type": "stream",
          "text": [
            "<ipython-input-100-8480b0be6e9b>:62: UserWarning:\n",
            "\n",
            "Implicit dimension choice for softmax has been deprecated. Change the call to include dim=X as an argument.\n",
            "\n"
          ]
        },
        {
          "name": "stdout",
          "output_type": "stream",
          "text": [
            "Epoch 1/10 \t loss=69.8069 \t val_loss=48.6372  \t val_acc=0.6727  \t time=43.54s\n",
            "Epoch 2/10 \t loss=49.4960 \t val_loss=44.7189  \t val_acc=0.7024  \t time=44.76s\n",
            "Epoch 3/10 \t loss=45.0245 \t val_loss=42.8202  \t val_acc=0.7160  \t time=46.23s\n",
            "Epoch 4/10 \t loss=42.2344 \t val_loss=41.9149  \t val_acc=0.7226  \t time=46.84s\n",
            "Epoch 5/10 \t loss=40.2474 \t val_loss=40.9615  \t val_acc=0.7291  \t time=47.02s\n",
            "Epoch 6/10 \t loss=38.5454 \t val_loss=40.4603  \t val_acc=0.7375  \t time=46.95s\n",
            "Epoch 7/10 \t loss=37.1111 \t val_loss=40.3412  \t val_acc=0.7422  \t time=46.91s\n",
            "Epoch 8/10 \t loss=35.8880 \t val_loss=39.8721  \t val_acc=0.7409  \t time=46.98s\n",
            "Epoch 9/10 \t loss=34.7347 \t val_loss=39.8894  \t val_acc=0.7450  \t time=46.95s\n",
            "Epoch 10/10 \t loss=33.6820 \t val_loss=39.3728  \t val_acc=0.7433  \t time=46.93s\n"
          ]
        }
      ],
      "source": [
        "import torch\n",
        "import torch.nn as nn\n",
        "import torch.nn.functional as F\n",
        "import numpy as np\n",
        "import time\n",
        "\n",
        "# Recalculate class weights\n",
        "total_samples = count_df['full_review'].sum()\n",
        "num_classes = len(count_df)  # The actual number of classes\n",
        "weights = total_samples / (num_classes * count_df['full_review'])\n",
        "\n",
        "# Convert to a PyTorch tensor and move to the device (e.g., GPU)\n",
        "DEVICE = torch.device(\"cuda\" if torch.cuda.is_available() else \"cpu\")\n",
        "class_weights = torch.tensor(weights.to_numpy(), dtype=torch.float32).to(DEVICE)\n",
        "\n",
        "# Initialize the model\n",
        "model = EnhancedCNN_Text(n_classes=num_classes, max_features=max_features, embed_size=embed_size, embedding_matrix=embedding_matrix)\n",
        "model.to(DEVICE)\n",
        "\n",
        "# Using Weighted Cross-Entropy Loss\n",
        "loss_fn = nn.CrossEntropyLoss(weight=class_weights, reduction='sum')\n",
        "\n",
        "# Using AdamW Optimizer\n",
        "# Updated based on best params\n",
        "optimizer = torch.optim.AdamW(model.parameters(), lr=6.104290174490393e-05)\n",
        "\n",
        "# Load train and test data into CUDA memory\n",
        "x_train = torch.tensor(train_X, dtype=torch.long).to(DEVICE)\n",
        "y_train = torch.tensor(train_y, dtype=torch.long).to(DEVICE)\n",
        "x_cv = torch.tensor(test_X, dtype=torch.long).to(DEVICE)\n",
        "y_cv = torch.tensor(test_y, dtype=torch.long).to(DEVICE)\n",
        "\n",
        "# Create Torch datasets\n",
        "train = torch.utils.data.TensorDataset(x_train, y_train)\n",
        "valid = torch.utils.data.TensorDataset(x_cv, y_cv)\n",
        "\n",
        "# Create Data Loaders\n",
        "train_loader = torch.utils.data.DataLoader(train, batch_size=batch_size, shuffle=True)\n",
        "valid_loader = torch.utils.data.DataLoader(valid, batch_size=batch_size, shuffle=False)\n",
        "\n",
        "# Training Loop\n",
        "train_loss = []\n",
        "valid_loss = []\n",
        "for epoch in range(n_epochs):\n",
        "    start_time = time.time()\n",
        "    model.train()\n",
        "    avg_loss = 0.\n",
        "    for i, (x_batch, y_batch) in enumerate(train_loader):\n",
        "        y_pred = model(x_batch)\n",
        "        loss = loss_fn(y_pred, y_batch)\n",
        "        optimizer.zero_grad()\n",
        "        loss.backward()\n",
        "        optimizer.step()\n",
        "        avg_loss += loss.item() / len(train_loader)\n",
        "\n",
        "    model.eval()\n",
        "    avg_val_loss = 0.\n",
        "    val_preds = np.zeros((len(x_cv), num_classes))\n",
        "    for i, (x_batch, y_batch) in enumerate(valid_loader):\n",
        "        y_pred = model(x_batch).detach()\n",
        "        avg_val_loss += loss_fn(y_pred, y_batch).item() / len(valid_loader)\n",
        "        val_preds[i * batch_size:(i+1) * batch_size] = F.softmax(y_pred).cpu().numpy()\n",
        "\n",
        "    val_accuracy = sum(val_preds.argmax(axis=1) == test_y) / len(test_y)\n",
        "    train_loss.append(avg_loss)\n",
        "    valid_loss.append(avg_val_loss)\n",
        "    elapsed_time = time.time() - start_time\n",
        "    print(f'Epoch {epoch + 1}/{n_epochs} \\t loss={avg_loss:.4f} \\t val_loss={avg_val_loss:.4f}  \\t val_acc={val_accuracy:.4f}  \\t time={elapsed_time:.2f}s')\n"
      ]
    },
    {
      "cell_type": "code",
      "source": [
        "!pip install optuna"
      ],
      "metadata": {
        "id": "BciKo7xDl2I8"
      },
      "execution_count": null,
      "outputs": []
    },
    {
      "cell_type": "code",
      "source": [
        "# Load train and test data into CUDA memory\n",
        "x_train = torch.tensor(train_X, dtype=torch.long).to(DEVICE)\n",
        "y_train = torch.tensor(train_y, dtype=torch.long).to(DEVICE)\n",
        "x_cv = torch.tensor(test_X, dtype=torch.long).to(DEVICE)\n",
        "y_cv = torch.tensor(test_y, dtype=torch.long).to(DEVICE)"
      ],
      "metadata": {
        "id": "ORIAjZX8lp3-"
      },
      "execution_count": null,
      "outputs": []
    },
    {
      "cell_type": "code",
      "source": [
        "class EnhancedCNN_Text(nn.Module):\n",
        "    def __init__(self, n_classes, max_features, embed_size, embedding_matrix, num_filters=50, dropout_rate=0.2):\n",
        "        super(EnhancedCNN_Text, self).__init__()\n",
        "        filter_sizes = [1, 2, 3, 4, 5]\n",
        "\n",
        "        self.embedding = nn.Embedding(max_features, embed_size)\n",
        "        self.embedding.weight = nn.Parameter(torch.tensor(embedding_matrix, dtype=torch.float32))\n",
        "        self.embedding.weight.requires_grad = False\n",
        "\n",
        "        self.convs = nn.ModuleList()\n",
        "        for size in filter_sizes:\n",
        "            conv_layers = [\n",
        "                nn.Conv2d(1, num_filters, (size, embed_size)),\n",
        "                nn.BatchNorm2d(num_filters),\n",
        "                nn.LeakyReLU(),\n",
        "                nn.Conv2d(num_filters, num_filters, (size, 1)),\n",
        "                nn.BatchNorm2d(num_filters),\n",
        "                nn.LeakyReLU()\n",
        "            ]\n",
        "            self.convs.append(nn.Sequential(*conv_layers))\n",
        "\n",
        "        self.global_max_pool = nn.AdaptiveMaxPool2d((1, None))\n",
        "        self.dropout = nn.Dropout(dropout_rate)\n",
        "        self.fc = nn.Linear(num_filters * len(filter_sizes), n_classes)\n",
        "\n",
        "    def forward(self, x):\n",
        "        x = self.embedding(x).unsqueeze(1)\n",
        "        x = [conv(x) for conv in self.convs]\n",
        "        x = [self.global_max_pool(conv_x).squeeze(3).squeeze(2) for conv_x in x]\n",
        "        x = torch.cat(x, 1)\n",
        "        x = self.dropout(x)\n",
        "        logit = self.fc(x)\n",
        "        return logit"
      ],
      "metadata": {
        "id": "k58vBDz5lSVX"
      },
      "execution_count": null,
      "outputs": []
    },
    {
      "cell_type": "code",
      "source": [
        "import optuna\n",
        "import torch\n",
        "from torch.utils.data import DataLoader, TensorDataset\n",
        "from sklearn.metrics import accuracy_score\n",
        "\n",
        "def train_model(trial, x_train, y_train, x_cv, y_cv):\n",
        "    # Hyperparameters to tune\n",
        "    lr = trial.suggest_float(\"lr\", 1e-6, 1e-1, log=True)  # Updated from suggest_loguniform\n",
        "    num_filters = trial.suggest_categorical(\"num_filters\", [30, 40, 50, 60, 70])\n",
        "    dropout_rate = trial.suggest_float(\"dropout_rate\", 0.1, 0.6)  # Updated from suggest_uniform\n",
        "    batch_size = trial.suggest_categorical(\"batch_size\", [64, 128, 256, 512])\n",
        "\n",
        "    # Model initialization with the chosen hyperparameters\n",
        "    model = EnhancedCNN_Text(n_classes=num_classes, max_features=max_features, embed_size=embed_size, embedding_matrix=embedding_matrix, num_filters=num_filters, dropout_rate=dropout_rate)\n",
        "    model.to(DEVICE)\n",
        "    optimizer = torch.optim.AdamW(model.parameters(), lr=lr)\n",
        "\n",
        "    # Training loop\n",
        "    for epoch in range(5):  # Number of epochs for faster trials\n",
        "        model.train()\n",
        "        for x_batch, y_batch in DataLoader(TensorDataset(x_train, y_train), batch_size=batch_size, shuffle=True):\n",
        "            x_batch = x_batch.to(DEVICE)\n",
        "            y_batch = y_batch.to(DEVICE)\n",
        "            optimizer.zero_grad()\n",
        "            y_pred = model(x_batch)\n",
        "            loss = nn.CrossEntropyLoss(weight=class_weights)(y_pred, y_batch)\n",
        "            loss.backward()\n",
        "            optimizer.step()\n",
        "\n",
        "        # Validation\n",
        "        model.eval()\n",
        "        val_preds = []\n",
        "        with torch.no_grad():\n",
        "            for x_batch, y_batch in DataLoader(TensorDataset(x_cv, y_cv), batch_size=batch_size):\n",
        "                x_batch = x_batch.to(DEVICE)\n",
        "                y_batch = y_batch.to(DEVICE)\n",
        "                y_pred = model(x_batch)\n",
        "                val_preds.extend(y_pred.argmax(dim=1).tolist())\n",
        "\n",
        "    val_accuracy = accuracy_score(y_cv.cpu(), val_preds)\n",
        "    return val_accuracy\n",
        "\n",
        "\n",
        "def objective(trial):\n",
        "    return train_model(trial, x_train, y_train, x_cv, y_cv)\n",
        "\n",
        "study = optuna.create_study(direction=\"maximize\")\n",
        "study.optimize(objective, n_trials=10, timeout=7200)  # Increased number of trials\n",
        "\n",
        "# Best trial results\n",
        "print(\"Best trial:\")\n",
        "trial = study.best_trial\n",
        "print(\" Value: \", trial.value)\n",
        "print(\" Params: \")\n",
        "for key, value in trial.params.items():\n",
        "    print(f\"    {key}: {value}\")\n"
      ],
      "metadata": {
        "id": "e_1UAzt3lTDG"
      },
      "execution_count": null,
      "outputs": []
    },
    {
      "cell_type": "code",
      "execution_count": null,
      "metadata": {
        "colab": {
          "base_uri": "https://localhost:8080/"
        },
        "id": "lIITZRwaX93f",
        "outputId": "2418b8d8-6344-4738-b29d-a6dce7bb7edf"
      },
      "outputs": [
        {
          "name": "stdout",
          "output_type": "stream",
          "text": [
            "EnhancedCNN_Text(\n",
            "  (embedding): Embedding(18000, 300)\n",
            "  (convs): ModuleList(\n",
            "    (0): Sequential(\n",
            "      (0): Conv2d(1, 50, kernel_size=(1, 300), stride=(1, 1))\n",
            "      (1): BatchNorm2d(50, eps=1e-05, momentum=0.1, affine=True, track_running_stats=True)\n",
            "      (2): LeakyReLU(negative_slope=0.01)\n",
            "      (3): Conv2d(50, 50, kernel_size=(1, 1), stride=(1, 1))\n",
            "      (4): BatchNorm2d(50, eps=1e-05, momentum=0.1, affine=True, track_running_stats=True)\n",
            "      (5): LeakyReLU(negative_slope=0.01)\n",
            "    )\n",
            "    (1): Sequential(\n",
            "      (0): Conv2d(1, 50, kernel_size=(2, 300), stride=(1, 1))\n",
            "      (1): BatchNorm2d(50, eps=1e-05, momentum=0.1, affine=True, track_running_stats=True)\n",
            "      (2): LeakyReLU(negative_slope=0.01)\n",
            "      (3): Conv2d(50, 50, kernel_size=(2, 1), stride=(1, 1))\n",
            "      (4): BatchNorm2d(50, eps=1e-05, momentum=0.1, affine=True, track_running_stats=True)\n",
            "      (5): LeakyReLU(negative_slope=0.01)\n",
            "    )\n",
            "    (2): Sequential(\n",
            "      (0): Conv2d(1, 50, kernel_size=(3, 300), stride=(1, 1))\n",
            "      (1): BatchNorm2d(50, eps=1e-05, momentum=0.1, affine=True, track_running_stats=True)\n",
            "      (2): LeakyReLU(negative_slope=0.01)\n",
            "      (3): Conv2d(50, 50, kernel_size=(3, 1), stride=(1, 1))\n",
            "      (4): BatchNorm2d(50, eps=1e-05, momentum=0.1, affine=True, track_running_stats=True)\n",
            "      (5): LeakyReLU(negative_slope=0.01)\n",
            "    )\n",
            "    (3): Sequential(\n",
            "      (0): Conv2d(1, 50, kernel_size=(4, 300), stride=(1, 1))\n",
            "      (1): BatchNorm2d(50, eps=1e-05, momentum=0.1, affine=True, track_running_stats=True)\n",
            "      (2): LeakyReLU(negative_slope=0.01)\n",
            "      (3): Conv2d(50, 50, kernel_size=(4, 1), stride=(1, 1))\n",
            "      (4): BatchNorm2d(50, eps=1e-05, momentum=0.1, affine=True, track_running_stats=True)\n",
            "      (5): LeakyReLU(negative_slope=0.01)\n",
            "    )\n",
            "    (4): Sequential(\n",
            "      (0): Conv2d(1, 50, kernel_size=(5, 300), stride=(1, 1))\n",
            "      (1): BatchNorm2d(50, eps=1e-05, momentum=0.1, affine=True, track_running_stats=True)\n",
            "      (2): LeakyReLU(negative_slope=0.01)\n",
            "      (3): Conv2d(50, 50, kernel_size=(5, 1), stride=(1, 1))\n",
            "      (4): BatchNorm2d(50, eps=1e-05, momentum=0.1, affine=True, track_running_stats=True)\n",
            "      (5): LeakyReLU(negative_slope=0.01)\n",
            "    )\n",
            "  )\n",
            "  (global_max_pool): AdaptiveMaxPool2d(output_size=(1, None))\n",
            "  (dropout): Dropout(p=0.12167120754625324, inplace=False)\n",
            "  (fc): Linear(in_features=250, out_features=16, bias=True)\n",
            ")\n"
          ]
        }
      ],
      "source": [
        "print(model)"
      ]
    },
    {
      "cell_type": "code",
      "execution_count": null,
      "metadata": {
        "colab": {
          "background_save": true
        },
        "id": "4P_BNQbKgOaY"
      },
      "outputs": [],
      "source": [
        "import csv\n",
        "import os\n",
        "from IPython.display import FileLink\n",
        "\n",
        "# Define your model summary data as seen in the image you uploaded\n",
        "summary = [\n",
        "    (\"conv0\", \"[1, 50, 300, 1]\", 17800),\n",
        "    (\"conv0.0.2\", \"[1, 1, 300, 300]\", 0),\n",
        "    (\"conv1\", \"[1, 50, 298, 1]\", 35300),\n",
        "    (\"conv1.0.2\", \"[1, 1, 300, 300]\", 0),\n",
        "    (\"conv2\", \"[1, 50, 296, 1]\", 52800),\n",
        "    (\"conv2.0.2\", \"[1, 1, 300, 300]\", 0),\n",
        "    (\"conv3\", \"[1, 50, 294, 1]\", 70300),\n",
        "    (\"conv3.0.2\", \"[1, 1, 300, 300]\", 0),\n",
        "    (\"conv4\", \"[1, 50, 292, 1]\", 87800),\n",
        "    (\"conv4.0.2\", \"[1, 1, 300, 300]\", 0),\n",
        "    (\"global_max_pool\", \"[1, 50, 1, 1]\", 0),\n",
        "    (\"dropout\", \"[1, 50, 1, 1]\", 0),\n",
        "    (\"fc\", \"[1, 16]\", 816),\n",
        "    (\"Total Params\", \"\", 281800)\n",
        "]\n",
        "\n",
        "# Define the file path for the CSV\n",
        "file_path = '/mnt/data/model_summary.csv'\n",
        "\n",
        "# Write the summary to a CSV file\n",
        "with open(file_path, 'w', newline='') as file:\n",
        "    writer = csv.writer(file)\n",
        "    writer.writerow([\"Layer Name\", \"Output Shape\", \"Param #\"])  # Write the header\n",
        "    writer.writerows(summary)  # Write the layer data\n",
        "\n",
        "print(\"The model summary has been written to 'model_summary.csv'\")\n",
        "\n",
        "# Provide a link to download the CSV file if in a Jupyter environment\n",
        "if os.path.isfile(file_path):\n",
        "    display(FileLink(file_path))\n",
        "else:\n",
        "    print(\"File not found.\")\n"
      ]
    },
    {
      "cell_type": "code",
      "execution_count": null,
      "metadata": {
        "colab": {
          "base_uri": "https://localhost:8080/"
        },
        "id": "P2X7ukT5ua0u",
        "outputId": "61d006d6-4aeb-4c94-be6a-cf1c735ff307"
      },
      "outputs": [
        {
          "name": "stdout",
          "output_type": "stream",
          "text": [
            "Predicted Categories for Sampled Data:\n",
            "Record 1: Predicted Category - STYLE & BEAUTY\n",
            "Record 2: Predicted Category - FOOD & DRINK\n",
            "Record 3: Predicted Category - TRAVEL\n",
            "Record 4: Predicted Category - ENTERTAINMENT\n",
            "Record 5: Predicted Category - TRAVEL\n"
          ]
        }
      ],
      "source": [
        "# Randomly select 5 records from the training data\n",
        "sampled_data = data.sample(5)\n",
        "\n",
        "# Combine headline and short description\n",
        "sampled_data['combined_text'] = sampled_data['headline'] + ' ' + sampled_data['short_description']\n",
        "\n",
        "# Preprocess the combined text\n",
        "combined_text_sequences = tokenizer.texts_to_sequences(sampled_data['combined_text'])\n",
        "combined_text_padded = pad_sequences(combined_text_sequences, maxlen=maxlen)\n",
        "\n",
        "# Convert to torch tensor and move to the appropriate device\n",
        "combined_text_tensor = torch.tensor(combined_text_padded, dtype=torch.long).to(DEVICE)\n",
        "\n",
        "# Prediction\n",
        "model.eval()  # Ensure the model is in evaluation mode\n",
        "predictions = model(combined_text_tensor)\n",
        "predicted_categories_indices = torch.argmax(F.softmax(predictions, dim=1), dim=1).cpu().numpy()\n",
        "\n",
        "# Print predicted categories\n",
        "print(\"Predicted Categories for Sampled Data:\")\n",
        "for i, pred_idx in enumerate(predicted_categories_indices):\n",
        "      predicted_category = le.classes_[pred_idx]\n",
        "      print(f\"Record {i+1}: Predicted Category - {predicted_category}\")"
      ]
    },
    {
      "cell_type": "code",
      "execution_count": null,
      "metadata": {
        "id": "4xis64BjXo54"
      },
      "outputs": [],
      "source": [
        "torch.save(model,'textcnn_model_best_params')"
      ]
    },
    {
      "cell_type": "code",
      "execution_count": null,
      "metadata": {
        "colab": {
          "base_uri": "https://localhost:8080/",
          "height": 997
        },
        "id": "J6XZ3-j5Xo55",
        "outputId": "26bc0b82-da41-4088-dd0b-9460bdf020a2"
      },
      "outputs": [
        {
          "data": {
            "image/png": "[encoded data removed]",
            "text/plain": [
              "<Figure size 1200x1200 with 1 Axes>"
            ]
          },
          "metadata": {},
          "output_type": "display_data"
        }
      ],
      "source": [
        "def plot_graph(epochs):\n",
        "    fig = plt.figure(figsize=(12,12))\n",
        "    plt.title(\"Train/Validation Loss\")\n",
        "    plt.plot(list(np.arange(epochs) + 1) , train_loss, label='train')\n",
        "    plt.plot(list(np.arange(epochs) + 1), valid_loss, label='validation')\n",
        "    plt.xlabel('num_epochs', fontsize=12)\n",
        "    plt.ylabel('loss', fontsize=12)\n",
        "    plt.legend(loc='best')\n",
        "\n",
        "plot_graph(n_epochs)"
      ]
    },
    {
      "cell_type": "code",
      "execution_count": null,
      "metadata": {
        "id": "aFHBMpEOqygF"
      },
      "outputs": [],
      "source": [
        "DEVICE = torch.device(\"cuda\" if torch.cuda.is_available() else \"cpu\")"
      ]
    },
    {
      "cell_type": "code",
      "execution_count": null,
      "metadata": {
        "colab": {
          "base_uri": "https://localhost:8080/"
        },
        "id": "8tpOy1ESqi5V",
        "outputId": "b50f8ea1-2f94-48d0-f48c-fb65079fc39c"
      },
      "outputs": [
        {
          "name": "stdout",
          "output_type": "stream",
          "text": [
            "Collecting scikit-plot\n",
            "  Downloading scikit_plot-0.3.7-py3-none-any.whl (33 kB)\n",
            "Requirement already satisfied: matplotlib>=1.4.0 in /usr/local/lib/python3.10/dist-packages (from scikit-plot) (3.7.1)\n",
            "Requirement already satisfied: scikit-learn>=0.18 in /usr/local/lib/python3.10/dist-packages (from scikit-plot) (1.2.2)\n",
            "Requirement already satisfied: scipy>=0.9 in /usr/local/lib/python3.10/dist-packages (from scikit-plot) (1.11.3)\n",
            "Requirement already satisfied: joblib>=0.10 in /usr/local/lib/python3.10/dist-packages (from scikit-plot) (1.3.2)\n",
            "Requirement already satisfied: contourpy>=1.0.1 in /usr/local/lib/python3.10/dist-packages (from matplotlib>=1.4.0->scikit-plot) (1.2.0)\n",
            "Requirement already satisfied: cycler>=0.10 in /usr/local/lib/python3.10/dist-packages (from matplotlib>=1.4.0->scikit-plot) (0.12.1)\n",
            "Requirement already satisfied: fonttools>=4.22.0 in /usr/local/lib/python3.10/dist-packages (from matplotlib>=1.4.0->scikit-plot) (4.44.3)\n",
            "Requirement already satisfied: kiwisolver>=1.0.1 in /usr/local/lib/python3.10/dist-packages (from matplotlib>=1.4.0->scikit-plot) (1.4.5)\n",
            "Requirement already satisfied: numpy>=1.20 in /usr/local/lib/python3.10/dist-packages (from matplotlib>=1.4.0->scikit-plot) (1.23.5)\n",
            "Requirement already satisfied: packaging>=20.0 in /usr/local/lib/python3.10/dist-packages (from matplotlib>=1.4.0->scikit-plot) (23.2)\n",
            "Requirement already satisfied: pillow>=6.2.0 in /usr/local/lib/python3.10/dist-packages (from matplotlib>=1.4.0->scikit-plot) (9.4.0)\n",
            "Requirement already satisfied: pyparsing>=2.3.1 in /usr/local/lib/python3.10/dist-packages (from matplotlib>=1.4.0->scikit-plot) (3.1.1)\n",
            "Requirement already satisfied: python-dateutil>=2.7 in /usr/local/lib/python3.10/dist-packages (from matplotlib>=1.4.0->scikit-plot) (2.8.2)\n",
            "Requirement already satisfied: threadpoolctl>=2.0.0 in /usr/local/lib/python3.10/dist-packages (from scikit-learn>=0.18->scikit-plot) (3.2.0)\n",
            "Requirement already satisfied: six>=1.5 in /usr/local/lib/python3.10/dist-packages (from python-dateutil>=2.7->matplotlib>=1.4.0->scikit-plot) (1.16.0)\n",
            "Installing collected packages: scikit-plot\n",
            "Successfully installed scikit-plot-0.3.7\n"
          ]
        }
      ],
      "source": [
        "pip install scikit-plot\n"
      ]
    },
    {
      "cell_type": "code",
      "execution_count": null,
      "metadata": {
        "colab": {
          "base_uri": "https://localhost:8080/",
          "height": 1000
        },
        "id": "s4hW6iLjXo55",
        "outputId": "38e49bd3-f205-4ea0-b3d0-3862ede07fd3"
      },
      "outputs": [
        {
          "name": "stdout",
          "output_type": "stream",
          "text": [
            "                precision    recall  f1-score   support\n",
            "\n",
            " ENTERTAINMENT       0.86      0.57      0.69      4432\n",
            "       FINANCE       0.77      0.32      0.45      2066\n",
            "  FOOD & DRINK       0.78      0.83      0.80      2481\n",
            "         OTHER       0.63      0.69      0.66      9003\n",
            "     PARENTING       0.71      0.76      0.74      3704\n",
            "      POLITICS       0.81      0.85      0.83      9732\n",
            "STYLE & BEAUTY       0.81      0.85      0.83      3411\n",
            "        TRAVEL       0.74      0.77      0.76      2826\n",
            "      WELLNESS       0.72      0.83      0.77      6963\n",
            "    WORLD NEWS       0.76      0.64      0.70      2461\n",
            "\n",
            "      accuracy                           0.74     47079\n",
            "     macro avg       0.76      0.71      0.72     47079\n",
            "  weighted avg       0.75      0.74      0.74     47079\n",
            "\n"
          ]
        },
        {
          "data": {
            "text/plain": [
              "<Axes: title={'center': 'Confusion Matrix'}, xlabel='Predicted label', ylabel='True label'>"
            ]
          },
          "execution_count": 83,
          "metadata": {},
          "output_type": "execute_result"
        },
        {
          "data": {
            "image/png": "[encoded data removed]",
            "text/plain": [
              "<Figure size 1200x1200 with 2 Axes>"
            ]
          },
          "metadata": {},
          "output_type": "display_data"
        }
      ],
      "source": [
        "import scikitplot as skplt\n",
        "y_true = [le.classes_[x] for x in test_y]\n",
        "y_pred = [le.classes_[x] for x in val_preds.argmax(axis=1)]\n",
        "from sklearn.metrics import classification_report\n",
        "print(classification_report(y_true, y_pred))\n",
        "skplt.metrics.plot_confusion_matrix(\n",
        "    y_true,\n",
        "    y_pred,\n",
        "    figsize=(12,12),x_tick_rotation=90)"
      ]
    },
    {
      "cell_type": "code",
      "execution_count": null,
      "metadata": {
        "colab": {
          "base_uri": "https://localhost:8080/",
          "height": 110
        },
        "id": "F60y6OtOXo55",
        "outputId": "e2b5bc7f-4594-44dc-8593-ab55e007acbc"
      },
      "outputs": [
        {
          "name": "stderr",
          "output_type": "stream",
          "text": [
            "<ipython-input-84-cbee0692f900>:12: UserWarning:\n",
            "\n",
            "Implicit dimension choice for softmax has been deprecated. Change the call to include dim=X as an argument.\n",
            "\n"
          ]
        },
        {
          "data": {
            "application/vnd.google.colaboratory.intrinsic+json": {
              "type": "string"
            },
            "text/plain": [
              "'ENTERTAINMENT'"
            ]
          },
          "execution_count": 84,
          "metadata": {},
          "output_type": "execute_result"
        }
      ],
      "source": [
        "def predict_single(x):\n",
        "    # lower the text\n",
        "    x = x.lower()\n",
        "    # tokenize\n",
        "    x = tokenizer.texts_to_sequences([x])\n",
        "    # pad\n",
        "    x = pad_sequences(x, maxlen=maxlen)\n",
        "    # create dataset\n",
        "    x = torch.tensor(x, dtype=torch.long).to(DEVICE)\n",
        "\n",
        "    pred = model(x).detach()\n",
        "    pred = F.softmax(pred).cpu().numpy()\n",
        "\n",
        "    pred = pred.argmax(axis=1)\n",
        "\n",
        "    pred = le.classes_[pred]\n",
        "    return pred[0]\n",
        "\n",
        "predict_single(data['full_review'].values[20])"
      ]
    },
    {
      "cell_type": "code",
      "execution_count": null,
      "metadata": {
        "colab": {
          "base_uri": "https://localhost:8080/"
        },
        "id": "I5Sns6YJXo56",
        "outputId": "c7c52a46-a068-4689-fff9-5fc81f7f4754"
      },
      "outputs": [
        {
          "name": "stderr",
          "output_type": "stream",
          "text": [
            "<ipython-input-84-cbee0692f900>:12: UserWarning:\n",
            "\n",
            "Implicit dimension choice for softmax has been deprecated. Change the call to include dim=X as an argument.\n",
            "\n"
          ]
        },
        {
          "name": "stdout",
          "output_type": "stream",
          "text": [
            "Train Accuracy :  0.784572739437966\n"
          ]
        }
      ],
      "source": [
        "print(\"Train Accuracy : \",sum([predict_single(x)==y for x,y in zip(data['full_review'].values, data['category'].values)])/len(data))"
      ]
    },
    {
      "cell_type": "code",
      "execution_count": null,
      "metadata": {
        "colab": {
          "base_uri": "https://localhost:8080/",
          "height": 497
        },
        "id": "VlCOJuFGUaAI",
        "outputId": "3fac1aec-9e33-4d0b-deee-af08507d9d45"
      },
      "outputs": [
        {
          "name": "stdout",
          "output_type": "stream",
          "text": [
            "// The EnhancedCNN_Text Model\n",
            "digraph {\n",
            "\tA [label=\"Input Layer\"]\n",
            "\tB [label=\"Embedding Layer (18000, 300)\"]\n",
            "\tC [label=\"Convolutional Layer 1\"]\n",
            "\tD [label=\"Convolutional Layer 2\"]\n",
            "\tE [label=\"Convolutional Layer 3\"]\n",
            "\tF [label=\"Convolutional Layer 4\"]\n",
            "\tG [label=\"Convolutional Layer 5\"]\n",
            "\tH [label=\"Global Max Pooling\"]\n",
            "\tI [label=Dropout]\n",
            "\tJ [label=\"Fully Connected Layer\"]\n",
            "\tK [label=\"Output Layer\"]\n",
            "\tA -> B\n",
            "\tB -> C\n",
            "\tC -> D\n",
            "\tD -> E\n",
            "\tE -> F\n",
            "\tF -> G\n",
            "\tG -> H\n",
            "\tH -> I\n",
            "\tI -> J\n",
            "\tJ -> K\n",
            "}\n",
            "\n"
          ]
        },
        {
          "data": {
            "application/vnd.google.colaboratory.intrinsic+json": {
              "type": "string"
            },
            "text/plain": [
              "'test-output/EnhancedCNN_Text.gv.pdf'"
            ]
          },
          "execution_count": 58,
          "metadata": {},
          "output_type": "execute_result"
        }
      ],
      "source": [
        "from graphviz import Digraph\n",
        "\n",
        "dot = Digraph(comment='The EnhancedCNN_Text Model')\n",
        "\n",
        "# Adding nodes (layers)\n",
        "dot.node('A', 'Input Layer')\n",
        "dot.node('B', 'Embedding Layer (18000, 300)')\n",
        "dot.node('C', 'Convolutional Layer 1')\n",
        "dot.node('D', 'Convolutional Layer 2')\n",
        "dot.node('E', 'Convolutional Layer 3')\n",
        "dot.node('F', 'Convolutional Layer 4')\n",
        "dot.node('G', 'Convolutional Layer 5')\n",
        "dot.node('H', 'Global Max Pooling')\n",
        "dot.node('I', 'Dropout')\n",
        "dot.node('J', 'Fully Connected Layer')\n",
        "dot.node('K', 'Output Layer')\n",
        "\n",
        "# Adding edges (connections)\n",
        "dot.edges(['AB', 'BC', 'CD', 'DE', 'EF', 'FG', 'GH', 'HI', 'IJ', 'JK'])\n",
        "\n",
        "# Visualize the graph\n",
        "print(dot.source)\n",
        "dot.render('test-output/EnhancedCNN_Text.gv', view=True)\n"
      ]
    },
    {
      "cell_type": "code",
      "execution_count": null,
      "metadata": {
        "colab": {
          "base_uri": "https://localhost:8080/"
        },
        "id": "7NCmzTxrWn4b",
        "outputId": "215372f5-8c07-46b7-f1b4-0ecd6e277dc3"
      },
      "outputs": [
        {
          "name": "stdout",
          "output_type": "stream",
          "text": [
            "Collecting diagrams\n",
            "  Downloading diagrams-0.23.4-py3-none-any.whl (24.6 MB)\n",
            "\u001b[2K     \u001b[90m━━━━━━━━━━━━━━━━━━━━━━━━━━━━━━━━━━━━━━━━\u001b[0m \u001b[32m24.6/24.6 MB\u001b[0m \u001b[31m65.4 MB/s\u001b[0m eta \u001b[36m0:00:00\u001b[0m\n",
            "\u001b[?25hRequirement already satisfied: graphviz<0.21.0,>=0.13.2 in /usr/local/lib/python3.10/dist-packages (from diagrams) (0.20.1)\n",
            "Requirement already satisfied: jinja2<4.0,>=2.10 in /usr/local/lib/python3.10/dist-packages (from diagrams) (3.1.2)\n",
            "Collecting typed-ast<2.0.0,>=1.5.4 (from diagrams)\n",
            "  Downloading typed_ast-1.5.5-cp310-cp310-manylinux_2_17_x86_64.manylinux2014_x86_64.whl (824 kB)\n",
            "\u001b[2K     \u001b[90m━━━━━━━━━━━━━━━━━━━━━━━━━━━━━━━━━━━━━━━━\u001b[0m \u001b[32m824.7/824.7 kB\u001b[0m \u001b[31m71.7 MB/s\u001b[0m eta \u001b[36m0:00:00\u001b[0m\n",
            "\u001b[?25hRequirement already satisfied: MarkupSafe>=2.0 in /usr/local/lib/python3.10/dist-packages (from jinja2<4.0,>=2.10->diagrams) (2.1.3)\n",
            "Installing collected packages: typed-ast, diagrams\n",
            "Successfully installed diagrams-0.23.4 typed-ast-1.5.5\n"
          ]
        }
      ],
      "source": [
        "pip install diagrams\n"
      ]
    },
    {
      "cell_type": "code",
      "execution_count": null,
      "metadata": {
        "id": "m_5t_pgcUwSw"
      },
      "outputs": [],
      "source": [
        "from diagrams import Diagram, Cluster\n",
        "from diagrams.onprem.client import Users\n",
        "from diagrams.onprem.compute import Server\n",
        "\n",
        "with Diagram(\"Enhanced CNN Text Classification\", show=False, direction=\"TB\"):\n",
        "\n",
        "    # Input\n",
        "    input_layer = Users(\"Input Text\")\n",
        "\n",
        "    # Embedding Layer\n",
        "    embedding = Server(\"Embedding Layer\\n(18000, 300)\")\n",
        "\n",
        "    # Convolutional Layers\n",
        "    with Cluster(\"Convolutional Layers\"):\n",
        "        conv_layers = [Server(f\"Conv Layer {i}\\n(Conv2d, BatchNorm2d, LeakyReLU)\") for i in range(1, 6)]\n",
        "\n",
        "    # Global Max Pooling\n",
        "    global_pool = Server(\"Global Max Pooling\")\n",
        "\n",
        "    # Dropout\n",
        "    dropout = Server(\"Dropout (0.12)\")\n",
        "\n",
        "    # Fully Connected Layer\n",
        "    fc_layer = Server(\"Fully Connected Layer\\n(Linear)\")\n",
        "\n",
        "    # Output Layer\n",
        "    output_layer = Server(\"Output Layer (Classification)\")\n",
        "\n",
        "    # Connecting layers\n",
        "    input_layer >> embedding >> conv_layers[0]\n",
        "    for i in range(4):\n",
        "        conv_layers[i] >> conv_layers[i + 1]\n",
        "    conv_layers[-1] >> global_pool >> dropout >> fc_layer >> output_layer\n"
      ]
    },
    {
      "cell_type": "markdown",
      "source": [
        "LSTM"
      ],
      "metadata": {
        "id": "VF_hPexEno6m"
      }
    },
    {
      "cell_type": "code",
      "execution_count": null,
      "metadata": {
        "id": "MHM-UpDZXo57"
      },
      "outputs": [],
      "source": [
        "class BiLSTM(nn.Module):\n",
        "    def __init__(self, hidden_size=64, dropout_rate=0.29764826566849856): #updated dropout_rate based on best params\n",
        "        super(BiLSTM, self).__init__()\n",
        "        self.hidden_size = hidden_size\n",
        "        n_classes = len(le.classes_)\n",
        "        self.embedding = nn.Embedding(max_features, embed_size)\n",
        "        self.embedding.weight = nn.Parameter(torch.tensor(embedding_matrix, dtype=torch.float32))\n",
        "        self.embedding.weight.requires_grad = False\n",
        "        self.lstm = nn.LSTM(embed_size, self.hidden_size, bidirectional=True, batch_first=True)\n",
        "        self.linear = nn.Linear(self.hidden_size * 4, 64)\n",
        "        self.relu = nn.ReLU()\n",
        "        self.dropout = nn.Dropout(dropout_rate)\n",
        "        self.out = nn.Linear(64, n_classes)\n",
        "\n",
        "\n",
        "    def forward(self, x):\n",
        "        #rint(x.size())\n",
        "        h_embedding = self.embedding(x)\n",
        "        #_embedding = torch.squeeze(torch.unsqueeze(h_embedding, 0))\n",
        "        h_lstm, _ = self.lstm(h_embedding)\n",
        "        avg_pool = torch.mean(h_lstm, 1)\n",
        "        max_pool, _ = torch.max(h_lstm, 1)\n",
        "        conc = torch.cat(( avg_pool, max_pool), 1)\n",
        "        conc = self.relu(self.linear(conc))\n",
        "        conc = self.dropout(conc)\n",
        "        out = self.out(conc)\n",
        "        return out"
      ]
    },
    {
      "cell_type": "code",
      "execution_count": null,
      "metadata": {
        "colab": {
          "base_uri": "https://localhost:8080/"
        },
        "id": "GEH2C4j1Xo57",
        "outputId": "6a70900c-46fd-4ed0-dfa3-c7edc9223adf"
      },
      "outputs": [
        {
          "name": "stderr",
          "output_type": "stream",
          "text": [
            "<ipython-input-88-2ce3b591a8ac>:49: UserWarning:\n",
            "\n",
            "Implicit dimension choice for softmax has been deprecated. Change the call to include dim=X as an argument.\n",
            "\n"
          ]
        },
        {
          "name": "stdout",
          "output_type": "stream",
          "text": [
            "Epoch 1/10 \t loss=573.1385 \t val_loss=391.7189  \t val_acc=0.7493  \t time=14.76s\n",
            "Epoch 2/10 \t loss=400.5305 \t val_loss=372.0422  \t val_acc=0.7604  \t time=14.74s\n",
            "Epoch 3/10 \t loss=363.4070 \t val_loss=364.8788  \t val_acc=0.7648  \t time=15.13s\n",
            "Epoch 4/10 \t loss=336.5646 \t val_loss=366.9326  \t val_acc=0.7653  \t time=14.88s\n",
            "Epoch 5/10 \t loss=313.5353 \t val_loss=372.4087  \t val_acc=0.7644  \t time=14.89s\n",
            "Epoch 6/10 \t loss=292.4611 \t val_loss=387.0231  \t val_acc=0.7642  \t time=15.18s\n",
            "Epoch 7/10 \t loss=273.1202 \t val_loss=393.2712  \t val_acc=0.7615  \t time=14.90s\n",
            "Epoch 8/10 \t loss=254.4024 \t val_loss=406.8368  \t val_acc=0.7631  \t time=14.89s\n",
            "Epoch 9/10 \t loss=236.7625 \t val_loss=420.7828  \t val_acc=0.7602  \t time=15.18s\n",
            "Epoch 10/10 \t loss=222.6865 \t val_loss=429.0188  \t val_acc=0.7573  \t time=14.92s\n"
          ]
        }
      ],
      "source": [
        "model = BiLSTM()\n",
        "loss_fn = nn.CrossEntropyLoss(reduction='sum')\n",
        "optimizer = torch.optim.Adam(filter(lambda p: p.requires_grad, model.parameters()), lr=0.005224824343509342) #updated lr based on best params\n",
        "\n",
        "model.to(DEVICE)\n",
        "\n",
        "batch_size = 512 # updated based on best params\n",
        "# Load train and test in CUDA Memory\n",
        "x_train = torch.tensor(train_X, dtype=torch.long).to(DEVICE)\n",
        "y_train = torch.tensor(train_y, dtype=torch.long).to(DEVICE)\n",
        "x_cv = torch.tensor(test_X, dtype=torch.long).to(DEVICE)\n",
        "y_cv = torch.tensor(test_y, dtype=torch.long).to(DEVICE)\n",
        "\n",
        "# Create Torch datasets\n",
        "train = torch.utils.data.TensorDataset(x_train, y_train)\n",
        "valid = torch.utils.data.TensorDataset(x_cv, y_cv)\n",
        "\n",
        "# Create Data Loaders\n",
        "train_loader = torch.utils.data.DataLoader(train, batch_size=batch_size, shuffle=True)\n",
        "valid_loader = torch.utils.data.DataLoader(valid, batch_size=batch_size, shuffle=False)\n",
        "\n",
        "train_loss = []\n",
        "valid_loss = []\n",
        "\n",
        "for epoch in range(n_epochs):\n",
        "    start_time = time.time()\n",
        "    # Set model to train configuration\n",
        "    model.train()\n",
        "    avg_loss = 0.\n",
        "    for i, (x_batch, y_batch) in enumerate(train_loader):\n",
        "        # Predict/Forward Pass\n",
        "        y_pred = model(x_batch)\n",
        "        # Compute loss\n",
        "        loss = loss_fn(y_pred, y_batch)\n",
        "        optimizer.zero_grad()\n",
        "        loss.backward()\n",
        "        optimizer.step()\n",
        "        avg_loss += loss.item() / len(train_loader)\n",
        "\n",
        "    # Set model to validation configuration -Doesn't get trained here\n",
        "    model.eval()\n",
        "    avg_val_loss = 0.\n",
        "    val_preds = np.zeros((len(x_cv),len(le.classes_)))\n",
        "\n",
        "    for i, (x_batch, y_batch) in enumerate(valid_loader):\n",
        "        y_pred = model(x_batch).detach()\n",
        "        avg_val_loss += loss_fn(y_pred, y_batch).item() / len(valid_loader)\n",
        "        # keep/store predictions\n",
        "        val_preds[i * batch_size:(i+1) * batch_size] =F.softmax(y_pred).cpu().numpy()\n",
        "\n",
        "    # Check Accuracy\n",
        "    val_accuracy = sum(val_preds.argmax(axis=1)==test_y)/len(test_y)\n",
        "    train_loss.append(avg_loss)\n",
        "    valid_loss.append(avg_val_loss)\n",
        "    elapsed_time = time.time() - start_time\n",
        "    print('Epoch {}/{} \\t loss={:.4f} \\t val_loss={:.4f}  \\t val_acc={:.4f}  \\t time={:.2f}s'.format(\n",
        "                epoch + 1, n_epochs, avg_loss, avg_val_loss, val_accuracy, elapsed_time))"
      ]
    },
    {
      "cell_type": "code",
      "execution_count": null,
      "metadata": {
        "id": "IFJbcx7U7yRh"
      },
      "outputs": [],
      "source": [
        "# Assuming 'data' is your DataFrame and 'category' is the target column\n",
        "class_counts = data['category'].value_counts()\n",
        "num_classes = 10  # As you have 10 classes\n",
        "\n",
        "# Calculate class weights\n",
        "class_weights = [data.shape[0] / (num_classes * class_counts[i]) for i in range(num_classes)]\n",
        "\n",
        "# Convert to a PyTorch tensor\n",
        "class_weights = torch.tensor(class_weights, dtype=torch.float32).to(DEVICE)\n"
      ]
    },
    {
      "cell_type": "code",
      "execution_count": null,
      "metadata": {
        "colab": {
          "base_uri": "https://localhost:8080/"
        },
        "id": "RC6tF0wn5zF6",
        "outputId": "c9b1ff4e-4cb3-4c31-9056-0e2099883d1e"
      },
      "outputs": [
        {
          "name": "stderr",
          "output_type": "stream",
          "text": [
            "[I 2023-11-29 16:38:03,934] A new study created in memory with name: no-name-3c4458fd-8d1b-48ec-924f-99a4d90ee96a\n",
            "[I 2023-11-29 16:39:20,127] Trial 0 finished with value: 0.7361243866692155 and parameters: {'lr': 0.0005896193700679242, 'hidden_size': 64, 'dropout_rate': 0.2320484298739781, 'batch_size': 256}. Best is trial 0 with value: 0.7361243866692155.\n",
            "[I 2023-11-29 16:40:38,413] Trial 1 finished with value: 0.5251173559336435 and parameters: {'lr': 2.06166089996994e-05, 'hidden_size': 64, 'dropout_rate': 0.42360092182274744, 'batch_size': 64}. Best is trial 0 with value: 0.7361243866692155.\n",
            "[I 2023-11-29 16:43:58,130] Trial 2 finished with value: 0.6994413645149642 and parameters: {'lr': 0.00012255482434363996, 'hidden_size': 128, 'dropout_rate': 0.4941912809505894, 'batch_size': 64}. Best is trial 0 with value: 0.7361243866692155.\n",
            "[I 2023-11-29 16:47:08,445] Trial 3 finished with value: 0.731196499500839 and parameters: {'lr': 0.007319093895053385, 'hidden_size': 128, 'dropout_rate': 0.4806159143709796, 'batch_size': 128}. Best is trial 0 with value: 0.7361243866692155.\n",
            "[I 2023-11-29 16:48:24,456] Trial 4 finished with value: 0.5051084347585972 and parameters: {'lr': 4.0958980319164946e-05, 'hidden_size': 64, 'dropout_rate': 0.3429191449552259, 'batch_size': 256}. Best is trial 0 with value: 0.7361243866692155.\n",
            "[I 2023-11-29 16:49:06,411] Trial 5 finished with value: 0.7287113150236836 and parameters: {'lr': 0.0006838149709332072, 'hidden_size': 32, 'dropout_rate': 0.17126181711756788, 'batch_size': 256}. Best is trial 0 with value: 0.7361243866692155.\n",
            "[I 2023-11-29 16:50:24,919] Trial 6 finished with value: 0.6735487159880201 and parameters: {'lr': 8.029270002553063e-05, 'hidden_size': 64, 'dropout_rate': 0.345376976047703, 'batch_size': 64}. Best is trial 0 with value: 0.7361243866692155.\n",
            "[I 2023-11-29 16:53:34,846] Trial 7 finished with value: 0.7335754795131587 and parameters: {'lr': 0.00035905841930516474, 'hidden_size': 128, 'dropout_rate': 0.4862665955781382, 'batch_size': 128}. Best is trial 0 with value: 0.7361243866692155.\n",
            "[I 2023-11-29 16:54:49,454] Trial 8 finished with value: 0.7505894347798382 and parameters: {'lr': 0.005224824343509342, 'hidden_size': 64, 'dropout_rate': 0.29764826566849856, 'batch_size': 512}. Best is trial 8 with value: 0.7505894347798382.\n",
            "[I 2023-11-29 16:56:05,149] Trial 9 finished with value: 0.666709148452601 and parameters: {'lr': 0.00017942601143637856, 'hidden_size': 64, 'dropout_rate': 0.37296365071281434, 'batch_size': 256}. Best is trial 8 with value: 0.7505894347798382.\n"
          ]
        },
        {
          "name": "stdout",
          "output_type": "stream",
          "text": [
            "Best trial:\n",
            " Value: 0.7505894347798382\n",
            " Params: \n",
            "    lr: 0.005224824343509342\n",
            "    hidden_size: 64\n",
            "    dropout_rate: 0.29764826566849856\n",
            "    batch_size: 512\n"
          ]
        }
      ],
      "source": [
        "from sklearn.metrics import accuracy_score\n",
        "\n",
        "def train_model(trial):\n",
        "    # Hyperparameters suggested by Optuna\n",
        "    lr = trial.suggest_float(\"lr\", 1e-5, 1e-2, log=True)\n",
        "    hidden_size = trial.suggest_categorical(\"hidden_size\", [32, 64, 128])\n",
        "    dropout_rate = trial.suggest_float(\"dropout_rate\", 0.1, 0.5)\n",
        "    batch_size = trial.suggest_categorical(\"batch_size\", [64, 128, 256, 512])\n",
        "\n",
        "    model = BiLSTM(hidden_size=hidden_size, dropout_rate=dropout_rate)\n",
        "    model.to(DEVICE)\n",
        "    optimizer = torch.optim.Adam(model.parameters(), lr=lr)\n",
        "\n",
        "    # Training loop\n",
        "    for epoch in range(5):  # Adjust number of epochs based on trial duration and model complexity\n",
        "        model.train()\n",
        "        for x_batch, y_batch in DataLoader(TensorDataset(x_train, y_train), batch_size=batch_size, shuffle=True):\n",
        "            x_batch = x_batch.to(DEVICE)\n",
        "            y_batch = y_batch.to(DEVICE)\n",
        "            optimizer.zero_grad()\n",
        "            y_pred = model(x_batch)\n",
        "            loss = nn.CrossEntropyLoss(weight=class_weights)(y_pred, y_batch)\n",
        "            loss.backward()\n",
        "            optimizer.step()\n",
        "\n",
        "        # Validation loop\n",
        "        model.eval()\n",
        "        val_preds = []\n",
        "        with torch.no_grad():\n",
        "            for x_batch, y_batch in DataLoader(TensorDataset(x_cv, y_cv), batch_size=batch_size):\n",
        "                x_batch = x_batch.to(DEVICE)\n",
        "                y_batch = y_batch.to(DEVICE)\n",
        "                y_pred = model(x_batch)\n",
        "                val_preds.extend(y_pred.argmax(dim=1).tolist())\n",
        "\n",
        "        # Calculate validation accuracy\n",
        "        val_accuracy = accuracy_score(y_cv.cpu().numpy(), val_preds)\n",
        "\n",
        "    return val_accuracy  # Return validation accuracy as the metric to optimize\n",
        "\n",
        "def objective(trial):\n",
        "    return train_model(trial)\n",
        "\n",
        "study = optuna.create_study(direction=\"maximize\")\n",
        "study.optimize(objective, n_trials=10, timeout=7200)  # Adjust the number of trials and timeout as needed\n",
        "\n",
        "# Output the results\n",
        "print(\"Best trial:\")\n",
        "trial = study.best_trial\n",
        "print(f\" Value: {trial.value}\")\n",
        "print(\" Params: \")\n",
        "for key, value in trial.params.items():\n",
        "    print(f\"    {key}: {value}\")\n",
        "\n",
        "\n",
        "\n"
      ]
    },
    {
      "cell_type": "code",
      "execution_count": null,
      "metadata": {
        "colab": {
          "base_uri": "https://localhost:8080/"
        },
        "id": "5SGnsrlhRbY1",
        "outputId": "327f4c72-fbaf-4f1c-dbf9-e5f3828dc028"
      },
      "outputs": [
        {
          "name": "stdout",
          "output_type": "stream",
          "text": [
            "BiLSTM(\n",
            "  (embedding): Embedding(18000, 300)\n",
            "  (lstm): LSTM(300, 64, batch_first=True, bidirectional=True)\n",
            "  (linear): Linear(in_features=256, out_features=64, bias=True)\n",
            "  (relu): ReLU()\n",
            "  (dropout): Dropout(p=0.29764826566849856, inplace=False)\n",
            "  (out): Linear(in_features=64, out_features=10, bias=True)\n",
            ")\n"
          ]
        }
      ],
      "source": [
        "print(model)"
      ]
    },
    {
      "cell_type": "code",
      "execution_count": null,
      "metadata": {
        "colab": {
          "base_uri": "https://localhost:8080/"
        },
        "id": "wmofAbP4Uixc",
        "outputId": "4ee0539c-3ee3-4e4d-9bd2-1cc4ce32eba5"
      },
      "outputs": [
        {
          "name": "stdout",
          "output_type": "stream",
          "text": [
            "Requirement already satisfied: torchsummary in /usr/local/lib/python3.10/dist-packages (1.5.1)\n"
          ]
        }
      ],
      "source": [
        "pip install torchsummary\n"
      ]
    },
    {
      "cell_type": "code",
      "execution_count": null,
      "metadata": {
        "colab": {
          "base_uri": "https://localhost:8080/"
        },
        "id": "tL2ZrPWQUkek",
        "outputId": "8a22622f-bf18-4e08-c19c-c5086fa5dfca"
      },
      "outputs": [
        {
          "name": "stdout",
          "output_type": "stream",
          "text": [
            "Layer Name\t\tOutput Shape\t\tParam #\n",
            "============================================================\n",
            "embedding\t\t[1, 300, 300]\t\t0\n",
            "lstm\t\t[1, 300]\t\t187392\n",
            "linear\t\t[1, 300]\t\t16448\n",
            "relu\t\t[1, 300]\t\t0\n",
            "dropout\t\t[1, 300]\t\t0\n",
            "out\t\t[1, 300]\t\t650\n",
            "Total Params: 204490\n"
          ]
        }
      ],
      "source": [
        "def model_summary(model, input_size, device='cuda'):\n",
        "    print(\"Layer Name\\t\\tOutput Shape\\t\\tParam #\")\n",
        "    print(\"=\"*60)\n",
        "\n",
        "    # Move model to the specified device\n",
        "    model.to(device)\n",
        "    model.eval()\n",
        "\n",
        "    total_params = 0\n",
        "\n",
        "    with torch.no_grad():\n",
        "        x = torch.zeros(input_size, dtype=torch.long, device=device)  # Create a dummy input tensor\n",
        "        for name, layer in model.named_modules():\n",
        "            # Skip the container module\n",
        "            if name == \"\":\n",
        "                continue\n",
        "\n",
        "            # Forward pass through the layer\n",
        "            try:\n",
        "                if isinstance(layer, nn.Embedding):\n",
        "                    x = layer(x)  # Embedding layer expects LongTensor input\n",
        "                elif isinstance(layer, (nn.LSTM, nn.GRU)):\n",
        "                    x, _ = layer(x)\n",
        "                else:\n",
        "                    x = layer(x.float())  # Other layers expect FloatTensor input\n",
        "            except Exception as e:\n",
        "                x = torch.zeros(input_size, dtype=torch.long, device=device)  # Reset dummy input if layer fails\n",
        "\n",
        "            output_shape = list(x.shape)\n",
        "            num_params = sum(p.numel() for p in layer.parameters() if p.requires_grad)\n",
        "            total_params += num_params\n",
        "\n",
        "            print(f\"{name}\\t\\t{output_shape}\\t\\t{num_params}\")\n",
        "\n",
        "    print(f\"Total Params: {total_params}\")\n",
        "\n",
        "# Example usage\n",
        "model_summary(model, input_size=(1, 300), device='cuda')\n",
        "\n"
      ]
    },
    {
      "cell_type": "code",
      "execution_count": null,
      "metadata": {
        "id": "yf38FGkJXo58"
      },
      "outputs": [],
      "source": [
        "torch.save(model,'bilstm_model')"
      ]
    },
    {
      "cell_type": "code",
      "execution_count": null,
      "metadata": {
        "colab": {
          "base_uri": "https://localhost:8080/",
          "height": 1000
        },
        "id": "cZrCxFOpXo59",
        "outputId": "29b7cc8d-6639-4908-8e8d-6cc1a0d1905d"
      },
      "outputs": [
        {
          "name": "stdout",
          "output_type": "stream",
          "text": [
            "                precision    recall  f1-score   support\n",
            "\n",
            " ENTERTAINMENT       0.76      0.76      0.76      4432\n",
            "       FINANCE       0.61      0.57      0.59      2066\n",
            "  FOOD & DRINK       0.82      0.79      0.81      2481\n",
            "         OTHER       0.71      0.62      0.66      9003\n",
            "     PARENTING       0.69      0.79      0.73      3704\n",
            "      POLITICS       0.82      0.84      0.83      9732\n",
            "STYLE & BEAUTY       0.83      0.85      0.84      3411\n",
            "        TRAVEL       0.78      0.75      0.77      2826\n",
            "      WELLNESS       0.76      0.82      0.78      6963\n",
            "    WORLD NEWS       0.69      0.74      0.71      2461\n",
            "\n",
            "      accuracy                           0.76     47079\n",
            "     macro avg       0.75      0.75      0.75     47079\n",
            "  weighted avg       0.76      0.76      0.76     47079\n",
            "\n"
          ]
        },
        {
          "data": {
            "text/plain": [
              "<Axes: title={'center': 'Confusion Matrix'}, xlabel='Predicted label', ylabel='True label'>"
            ]
          },
          "execution_count": 91,
          "metadata": {},
          "output_type": "execute_result"
        },
        {
          "data": {
            "image/png": "[encoded data removed]",
            "text/plain": [
              "<Figure size 1200x1200 with 2 Axes>"
            ]
          },
          "metadata": {},
          "output_type": "display_data"
        }
      ],
      "source": [
        "import scikitplot as skplt\n",
        "y_true = [le.classes_[x] for x in test_y]\n",
        "y_pred = [le.classes_[x] for x in val_preds.argmax(axis=1)]\n",
        "from sklearn.metrics import classification_report\n",
        "print(classification_report(y_true, y_pred))\n",
        "skplt.metrics.plot_confusion_matrix(\n",
        "    y_true,\n",
        "    y_pred,\n",
        "    figsize=(12,12),x_tick_rotation=90)"
      ]
    },
    {
      "cell_type": "code",
      "execution_count": null,
      "metadata": {
        "colab": {
          "base_uri": "https://localhost:8080/"
        },
        "id": "6gb67bxKXo59",
        "outputId": "fb01319e-8b94-4429-b4b2-11f80821ed01"
      },
      "outputs": [
        {
          "name": "stderr",
          "output_type": "stream",
          "text": [
            "<ipython-input-84-cbee0692f900>:12: UserWarning:\n",
            "\n",
            "Implicit dimension choice for softmax has been deprecated. Change the call to include dim=X as an argument.\n",
            "\n"
          ]
        },
        {
          "name": "stdout",
          "output_type": "stream",
          "text": [
            "Train Accuracy :  0.8541579047983178\n"
          ]
        }
      ],
      "source": [
        "print(\"Train Accuracy : \",sum([predict_single(x)==y for x,y in zip(data['full_review'].values, data['category'].values)])/len(data))"
      ]
    },
    {
      "cell_type": "code",
      "execution_count": null,
      "metadata": {
        "colab": {
          "base_uri": "https://localhost:8080/"
        },
        "id": "8MhnEfJuOeDp",
        "outputId": "e94e228f-b6fb-4ea1-9132-a5c7fed9cbb9"
      },
      "outputs": [
        {
          "name": "stdout",
          "output_type": "stream",
          "text": [
            "BiLSTM(\n",
            "  (embedding): Embedding(18000, 300)\n",
            "  (lstm): LSTM(300, 64, batch_first=True, bidirectional=True)\n",
            "  (linear): Linear(in_features=256, out_features=64, bias=True)\n",
            "  (relu): ReLU()\n",
            "  (dropout): Dropout(p=0.29764826566849856, inplace=False)\n",
            "  (out): Linear(in_features=64, out_features=10, bias=True)\n",
            ")\n"
          ]
        }
      ],
      "source": [
        "print(model)"
      ]
    }
  ],
  "metadata": {
    "accelerator": "GPU",
    "colab": {
      "machine_shape": "hm",
      "provenance": []
    },
    "kernelspec": {
      "display_name": "Python 3",
      "name": "python3"
    },
    "language_info": {
      "codemirror_mode": {
        "name": "ipython",
        "version": 3
      },
      "file_extension": ".py",
      "mimetype": "text/x-python",
      "name": "python",
      "nbconvert_exporter": "python",
      "pygments_lexer": "ipython3",
      "version": "3.11.5"
    }
  },
  "nbformat": 4,
  "nbformat_minor": 0
}